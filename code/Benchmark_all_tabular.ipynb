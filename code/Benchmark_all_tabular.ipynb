{
 "cells": [
  {
   "cell_type": "code",
   "execution_count": 1,
   "id": "680df5df-0c09-4797-bdd2-76248dc0a5cd",
   "metadata": {},
   "outputs": [
    {
     "name": "stdout",
     "output_type": "stream",
     "text": [
      "Runnning evaluation\n",
      "====================================================================================================\n",
      "Loading dataset : Boston\n"
     ]
    },
    {
     "data": {
      "image/png": "[encoded data removed]",
      "text/plain": [
       "<Figure size 640x480 with 1 Axes>"
      ]
     },
     "metadata": {},
     "output_type": "display_data"
    },
    {
     "name": "stdout",
     "output_type": "stream",
     "text": [
      "====================\n",
      "Knn\n",
      "Sklearn\n",
      " * Overall: RMSE 5.651\tG-Mean 1.747\n",
      " * Many: RMSE 0.946\tG-Mean 0.571\n",
      " * Median: RMSE 2.633\tG-Mean 1.079\n",
      " * Low: RMSE 9.071\tG-Mean 5.475\n",
      "====================\n",
      "Gradient Boosting\n",
      "Sklearn\n",
      " * Overall: RMSE 3.152\tG-Mean 1.415\n",
      " * Many: RMSE 1.371\tG-Mean 0.930\n",
      " * Median: RMSE 2.274\tG-Mean 1.188\n",
      " * Low: RMSE 4.499\tG-Mean 2.154\n",
      "====================\n",
      "Decision Tree\n",
      "Sklearn\n",
      " * Overall: RMSE 4.538\tG-Mean 1.446\n",
      " * Many: RMSE 1.970\tG-Mean 1.343\n",
      " * Median: RMSE 4.590\tG-Mean 2.392\n",
      " * Low: RMSE 5.040\tG-Mean 0.662\n",
      "====================\n",
      "Neural Network\n",
      "Sklearn\n",
      " * Overall: RMSE 2.609\tG-Mean 1.323\n",
      " * Many: RMSE 1.505\tG-Mean 0.837\n",
      " * Median: RMSE 2.047\tG-Mean 1.337\n",
      " * Low: RMSE 3.535\tG-Mean 1.514\n",
      "====================\n",
      "GPT2 vanilla\n",
      "torch.Size([462, 26])\n"
     ]
    },
    {
     "name": "stderr",
     "output_type": "stream",
     "text": [
      "100%|████████████████████████████████████████████████████████████████████████████████████████████████████████████████████████| 44/44 [00:01<00:00, 24.38it/s]\n"
     ]
    },
    {
     "name": "stdout",
     "output_type": "stream",
     "text": [
      " * Overall: RMSE 2.455\tG-Mean 1.422\n",
      " * Many: RMSE 1.032\tG-Mean 0.917\n",
      " * Median: RMSE 1.825\tG-Mean 1.275\n",
      " * Low: RMSE 3.465\tG-Mean 1.962\n",
      "====================\n",
      "GPT2 subsample\n",
      "torch.Size([128, 26])\n"
     ]
    },
    {
     "name": "stderr",
     "output_type": "stream",
     "text": [
      "100%|████████████████████████████████████████████████████████████████████████████████████████████████████████████████████████| 44/44 [00:01<00:00, 30.65it/s]\n"
     ]
    },
    {
     "name": "stdout",
     "output_type": "stream",
     "text": [
      " * Overall: RMSE 2.925\tG-Mean 1.351\n",
      " * Many: RMSE 2.476\tG-Mean 0.780\n",
      " * Median: RMSE 3.297\tG-Mean 1.298\n",
      " * Low: RMSE 2.379\tG-Mean 1.732\n",
      "====================\n",
      "GPT2 smoter\n",
      "torch.Size([461, 26])\n"
     ]
    },
    {
     "name": "stderr",
     "output_type": "stream",
     "text": [
      "100%|████████████████████████████████████████████████████████████████████████████████████████████████████████████████████████| 44/44 [00:01<00:00, 31.19it/s]\n"
     ]
    },
    {
     "name": "stdout",
     "output_type": "stream",
     "text": [
      " * Overall: RMSE 2.848\tG-Mean 1.857\n",
      " * Many: RMSE 1.562\tG-Mean 1.369\n",
      " * Median: RMSE 2.717\tG-Mean 1.591\n",
      " * Low: RMSE 3.341\tG-Mean 2.630\n",
      "====================\n",
      "GPT2 inverse\n",
      "torch.Size([462, 26])\n"
     ]
    },
    {
     "name": "stderr",
     "output_type": "stream",
     "text": [
      "100%|████████████████████████████████████████████████████████████████████████████████████████████████████████████████████████| 44/44 [00:01<00:00, 31.43it/s]\n"
     ]
    },
    {
     "name": "stdout",
     "output_type": "stream",
     "text": [
      " * Overall: RMSE 2.662\tG-Mean 1.433\n",
      " * Many: RMSE 1.117\tG-Mean 0.945\n",
      " * Median: RMSE 2.632\tG-Mean 1.271\n",
      " * Low: RMSE 3.048\tG-Mean 1.994\n",
      "====================\n",
      "PFN BO vanilla\n",
      "torch.Size([462, 26])\n"
     ]
    },
    {
     "name": "stderr",
     "output_type": "stream",
     "text": [
      "100%|████████████████████████████████████████████████████████████████████████████████████████████████████████████████████████| 44/44 [00:01<00:00, 36.76it/s]\n"
     ]
    },
    {
     "name": "stdout",
     "output_type": "stream",
     "text": [
      " * Overall: RMSE 3.156\tG-Mean 1.698\n",
      " * Many: RMSE 1.042\tG-Mean 0.994\n",
      " * Median: RMSE 2.120\tG-Mean 1.227\n",
      " * Low: RMSE 4.655\tG-Mean 3.410\n",
      "====================\n",
      "PFN BO subsample\n",
      "torch.Size([128, 26])\n"
     ]
    },
    {
     "name": "stderr",
     "output_type": "stream",
     "text": [
      "100%|████████████████████████████████████████████████████████████████████████████████████████████████████████████████████████| 44/44 [00:01<00:00, 34.40it/s]\n"
     ]
    },
    {
     "name": "stdout",
     "output_type": "stream",
     "text": [
      " * Overall: RMSE 3.407\tG-Mean 1.806\n",
      " * Many: RMSE 2.044\tG-Mean 1.052\n",
      " * Median: RMSE 2.846\tG-Mean 1.578\n",
      " * Low: RMSE 4.439\tG-Mean 2.684\n",
      "====================\n",
      "PFN BO smoter\n",
      "torch.Size([461, 26])\n"
     ]
    },
    {
     "name": "stderr",
     "output_type": "stream",
     "text": [
      "100%|████████████████████████████████████████████████████████████████████████████████████████████████████████████████████████| 44/44 [00:01<00:00, 31.38it/s]\n"
     ]
    },
    {
     "name": "stdout",
     "output_type": "stream",
     "text": [
      " * Overall: RMSE 3.280\tG-Mean 1.623\n",
      " * Many: RMSE 1.722\tG-Mean 1.389\n",
      " * Median: RMSE 2.845\tG-Mean 1.534\n",
      " * Low: RMSE 4.197\tG-Mean 1.872\n",
      "====================\n",
      "PFN BO inverse\n",
      "torch.Size([462, 26])\n"
     ]
    },
    {
     "name": "stderr",
     "output_type": "stream",
     "text": [
      "100%|████████████████████████████████████████████████████████████████████████████████████████████████████████████████████████| 44/44 [00:01<00:00, 37.28it/s]\n"
     ]
    },
    {
     "name": "stdout",
     "output_type": "stream",
     "text": [
      " * Overall: RMSE 3.144\tG-Mean 1.609\n",
      " * Many: RMSE 1.156\tG-Mean 0.700\n",
      " * Median: RMSE 2.058\tG-Mean 1.222\n",
      " * Low: RMSE 4.665\tG-Mean 3.297\n",
      "====================\n",
      "PFN BO all context\n",
      "torch.Size([462, 26])\n"
     ]
    },
    {
     "name": "stderr",
     "output_type": "stream",
     "text": [
      "100%|████████████████████████████████████████████████████████████████████████████████████████████████████████████████████████| 44/44 [00:01<00:00, 37.10it/s]\n"
     ]
    },
    {
     "name": "stdout",
     "output_type": "stream",
     "text": [
      " * Overall: RMSE 3.782\tG-Mean 1.698\n",
      " * Many: RMSE 1.132\tG-Mean 0.601\n",
      " * Median: RMSE 2.462\tG-Mean 1.185\n",
      " * Low: RMSE 5.643\tG-Mean 4.264\n",
      "====================================================================================================\n",
      "Loading dataset : Concrete\n"
     ]
    },
    {
     "data": {
      "image/png": "[encoded data removed]",
      "text/plain": [
       "<Figure size 640x480 with 1 Axes>"
      ]
     },
     "metadata": {},
     "output_type": "display_data"
    },
    {
     "name": "stdout",
     "output_type": "stream",
     "text": [
      "====================\n",
      "Knn\n",
      "Sklearn\n",
      " * Overall: RMSE 12.865\tG-Mean 6.689\n",
      " * Many: RMSE 5.620\tG-Mean 3.049\n",
      " * Median: RMSE 12.281\tG-Mean 7.287\n",
      " * Low: RMSE 21.225\tG-Mean 19.440\n",
      "====================\n",
      "Gradient Boosting\n",
      "Sklearn\n",
      " * Overall: RMSE 6.426\tG-Mean 2.683\n",
      " * Many: RMSE 3.184\tG-Mean 1.267\n",
      " * Median: RMSE 5.567\tG-Mean 2.907\n",
      " * Low: RMSE 11.480\tG-Mean 7.482\n",
      "====================\n",
      "Decision Tree\n",
      "Sklearn\n",
      " * Overall: RMSE 7.692\tG-Mean 0.400\n",
      " * Many: RMSE 4.303\tG-Mean 0.340\n",
      " * Median: RMSE 7.081\tG-Mean 0.385\n",
      " * Low: RMSE 12.717\tG-Mean 0.611\n",
      "====================\n",
      "Neural Network\n",
      "Sklearn\n",
      " * Overall: RMSE 7.181\tG-Mean 3.206\n",
      " * Many: RMSE 4.063\tG-Mean 1.845\n",
      " * Median: RMSE 6.467\tG-Mean 3.307\n",
      " * Low: RMSE 12.120\tG-Mean 7.529\n",
      "====================\n",
      "GPT2 vanilla\n",
      "torch.Size([836, 16])\n"
     ]
    },
    {
     "name": "stderr",
     "output_type": "stream",
     "text": [
      "100%|██████████████████████████████████████████████████████████████████████████████████████████████████████████████████████| 194/194 [00:03<00:00, 62.68it/s]\n"
     ]
    },
    {
     "name": "stdout",
     "output_type": "stream",
     "text": [
      " * Overall: RMSE 6.265\tG-Mean 2.563\n",
      " * Many: RMSE 4.005\tG-Mean 1.706\n",
      " * Median: RMSE 5.862\tG-Mean 2.530\n",
      " * Low: RMSE 9.842\tG-Mean 5.456\n",
      "====================\n",
      "GPT2 subsample\n",
      "torch.Size([182, 16])\n"
     ]
    },
    {
     "name": "stderr",
     "output_type": "stream",
     "text": [
      "100%|██████████████████████████████████████████████████████████████████████████████████████████████████████████████████████| 194/194 [00:03<00:00, 62.79it/s]\n"
     ]
    },
    {
     "name": "stdout",
     "output_type": "stream",
     "text": [
      " * Overall: RMSE 6.889\tG-Mean 3.443\n",
      " * Many: RMSE 7.090\tG-Mean 3.143\n",
      " * Median: RMSE 5.923\tG-Mean 3.165\n",
      " * Low: RMSE 9.277\tG-Mean 5.422\n",
      "====================\n",
      "GPT2 smoter\n",
      "torch.Size([835, 16])\n"
     ]
    },
    {
     "name": "stderr",
     "output_type": "stream",
     "text": [
      "100%|██████████████████████████████████████████████████████████████████████████████████████████████████████████████████████| 194/194 [00:03<00:00, 58.31it/s]\n"
     ]
    },
    {
     "name": "stdout",
     "output_type": "stream",
     "text": [
      " * Overall: RMSE 6.094\tG-Mean 2.888\n",
      " * Many: RMSE 4.589\tG-Mean 2.189\n",
      " * Median: RMSE 6.032\tG-Mean 2.799\n",
      " * Low: RMSE 8.236\tG-Mean 5.221\n",
      "====================\n",
      "GPT2 inverse\n",
      "torch.Size([836, 16])\n"
     ]
    },
    {
     "name": "stderr",
     "output_type": "stream",
     "text": [
      "100%|██████████████████████████████████████████████████████████████████████████████████████████████████████████████████████| 194/194 [00:03<00:00, 58.58it/s]\n"
     ]
    },
    {
     "name": "stdout",
     "output_type": "stream",
     "text": [
      " * Overall: RMSE 5.918\tG-Mean 2.656\n",
      " * Many: RMSE 4.142\tG-Mean 1.947\n",
      " * Median: RMSE 5.648\tG-Mean 2.690\n",
      " * Low: RMSE 8.782\tG-Mean 4.365\n",
      "====================\n",
      "PFN BO vanilla\n",
      "torch.Size([836, 16])\n"
     ]
    },
    {
     "name": "stderr",
     "output_type": "stream",
     "text": [
      "100%|██████████████████████████████████████████████████████████████████████████████████████████████████████████████████████| 194/194 [00:02<00:00, 72.78it/s]\n"
     ]
    },
    {
     "name": "stdout",
     "output_type": "stream",
     "text": [
      " * Overall: RMSE 6.546\tG-Mean 2.307\n",
      " * Many: RMSE 3.127\tG-Mean 1.278\n",
      " * Median: RMSE 6.020\tG-Mean 2.396\n",
      " * Low: RMSE 11.121\tG-Mean 5.654\n",
      "====================\n",
      "PFN BO subsample\n",
      "torch.Size([182, 16])\n"
     ]
    },
    {
     "name": "stderr",
     "output_type": "stream",
     "text": [
      "100%|██████████████████████████████████████████████████████████████████████████████████████████████████████████████████████| 194/194 [00:02<00:00, 73.66it/s]\n"
     ]
    },
    {
     "name": "stdout",
     "output_type": "stream",
     "text": [
      " * Overall: RMSE 8.586\tG-Mean 4.150\n",
      " * Many: RMSE 7.268\tG-Mean 3.370\n",
      " * Median: RMSE 8.517\tG-Mean 4.156\n",
      " * Low: RMSE 10.687\tG-Mean 5.939\n",
      "====================\n",
      "PFN BO smoter\n",
      "torch.Size([835, 16])\n"
     ]
    },
    {
     "name": "stderr",
     "output_type": "stream",
     "text": [
      "100%|██████████████████████████████████████████████████████████████████████████████████████████████████████████████████████| 194/194 [00:02<00:00, 73.18it/s]\n"
     ]
    },
    {
     "name": "stdout",
     "output_type": "stream",
     "text": [
      " * Overall: RMSE 6.567\tG-Mean 2.523\n",
      " * Many: RMSE 3.997\tG-Mean 1.638\n",
      " * Median: RMSE 6.679\tG-Mean 2.593\n",
      " * Low: RMSE 9.231\tG-Mean 4.861\n",
      "====================\n",
      "PFN BO inverse\n",
      "torch.Size([836, 16])\n"
     ]
    },
    {
     "name": "stderr",
     "output_type": "stream",
     "text": [
      "100%|██████████████████████████████████████████████████████████████████████████████████████████████████████████████████████| 194/194 [00:02<00:00, 71.30it/s]\n"
     ]
    },
    {
     "name": "stdout",
     "output_type": "stream",
     "text": [
      " * Overall: RMSE 6.572\tG-Mean 2.638\n",
      " * Many: RMSE 3.756\tG-Mean 1.882\n",
      " * Median: RMSE 5.681\tG-Mean 2.526\n",
      " * Low: RMSE 11.500\tG-Mean 5.541\n",
      "====================\n",
      "PFN BO all context\n",
      "torch.Size([836, 16])\n"
     ]
    },
    {
     "name": "stderr",
     "output_type": "stream",
     "text": [
      "100%|██████████████████████████████████████████████████████████████████████████████████████████████████████████████████████| 194/194 [00:03<00:00, 62.30it/s]\n"
     ]
    },
    {
     "name": "stdout",
     "output_type": "stream",
     "text": [
      " * Overall: RMSE 9.598\tG-Mean 5.183\n",
      " * Many: RMSE 7.200\tG-Mean 3.926\n",
      " * Median: RMSE 8.828\tG-Mean 4.902\n",
      " * Low: RMSE 14.566\tG-Mean 10.236\n",
      "====================================================================================================\n",
      "Loading dataset : Abalone\n"
     ]
    },
    {
     "data": {
      "image/png": "[encoded data removed]",
      "text/plain": [
       "<Figure size 640x480 with 1 Axes>"
      ]
     },
     "metadata": {},
     "output_type": "display_data"
    },
    {
     "name": "stdout",
     "output_type": "stream",
     "text": [
      "====================\n",
      "Knn\n",
      "Sklearn\n",
      " * Overall: RMSE 4.381\tG-Mean 1.585\n",
      " * Many: RMSE 1.528\tG-Mean 0.559\n",
      " * Median: RMSE 3.246\tG-Mean 2.142\n",
      " * Low: RMSE 7.663\tG-Mean 6.316\n",
      "====================\n",
      "Gradient Boosting\n",
      "Sklearn\n",
      " * Overall: RMSE 4.298\tG-Mean 1.698\n",
      " * Many: RMSE 1.494\tG-Mean 0.690\n",
      " * Median: RMSE 3.221\tG-Mean 2.007\n",
      " * Low: RMSE 7.500\tG-Mean 6.309\n",
      "====================\n",
      "Decision Tree\n",
      "Sklearn\n",
      " * Overall: RMSE 4.444\tG-Mean 0.071\n",
      " * Many: RMSE 2.353\tG-Mean 0.012\n",
      " * Median: RMSE 3.240\tG-Mean 0.027\n",
      " * Low: RMSE 7.455\tG-Mean 4.657\n",
      "====================\n",
      "Neural Network\n",
      "Sklearn\n",
      " * Overall: RMSE 4.055\tG-Mean 1.534\n",
      " * Many: RMSE 1.422\tG-Mean 0.699\n",
      " * Median: RMSE 2.937\tG-Mean 1.596\n",
      " * Low: RMSE 7.126\tG-Mean 5.517\n",
      "====================\n",
      "GPT2 vanilla\n",
      "torch.Size([3634, 14])\n"
     ]
    },
    {
     "name": "stderr",
     "output_type": "stream",
     "text": [
      "100%|██████████████████████████████████████████████████████████████████████████████████████████████████████████████████████| 543/543 [00:07<00:00, 75.09it/s]\n"
     ]
    },
    {
     "name": "stdout",
     "output_type": "stream",
     "text": [
      " * Overall: RMSE 4.314\tG-Mean 1.669\n",
      " * Many: RMSE 1.754\tG-Mean 0.765\n",
      " * Median: RMSE 3.021\tG-Mean 1.716\n",
      " * Low: RMSE 7.547\tG-Mean 6.048\n",
      "====================\n",
      "GPT2 subsample\n",
      "torch.Size([736, 14])\n"
     ]
    },
    {
     "name": "stderr",
     "output_type": "stream",
     "text": [
      "100%|██████████████████████████████████████████████████████████████████████████████████████████████████████████████████████| 543/543 [00:08<00:00, 62.22it/s]\n"
     ]
    },
    {
     "name": "stdout",
     "output_type": "stream",
     "text": [
      " * Overall: RMSE 3.658\tG-Mean 1.578\n",
      " * Many: RMSE 2.419\tG-Mean 1.092\n",
      " * Median: RMSE 2.354\tG-Mean 1.131\n",
      " * Low: RMSE 6.009\tG-Mean 4.488\n",
      "====================\n",
      "GPT2 smoter\n",
      "torch.Size([3633, 14])\n"
     ]
    },
    {
     "name": "stderr",
     "output_type": "stream",
     "text": [
      "100%|██████████████████████████████████████████████████████████████████████████████████████████████████████████████████████| 543/543 [00:07<00:00, 72.90it/s]\n"
     ]
    },
    {
     "name": "stdout",
     "output_type": "stream",
     "text": [
      " * Overall: RMSE 4.009\tG-Mean 1.617\n",
      " * Many: RMSE 2.235\tG-Mean 1.067\n",
      " * Median: RMSE 2.430\tG-Mean 1.150\n",
      " * Low: RMSE 6.909\tG-Mean 5.042\n",
      "====================\n",
      "GPT2 inverse\n",
      "torch.Size([3634, 14])\n"
     ]
    },
    {
     "name": "stderr",
     "output_type": "stream",
     "text": [
      "100%|██████████████████████████████████████████████████████████████████████████████████████████████████████████████████████| 543/543 [00:07<00:00, 74.31it/s]\n"
     ]
    },
    {
     "name": "stdout",
     "output_type": "stream",
     "text": [
      " * Overall: RMSE 4.097\tG-Mean 1.848\n",
      " * Many: RMSE 3.098\tG-Mean 1.322\n",
      " * Median: RMSE 2.781\tG-Mean 1.511\n",
      " * Low: RMSE 6.361\tG-Mean 4.204\n",
      "====================\n",
      "PFN BO vanilla\n",
      "torch.Size([3634, 14])\n"
     ]
    },
    {
     "name": "stderr",
     "output_type": "stream",
     "text": [
      "100%|██████████████████████████████████████████████████████████████████████████████████████████████████████████████████████| 543/543 [00:06<00:00, 89.37it/s]\n"
     ]
    },
    {
     "name": "stdout",
     "output_type": "stream",
     "text": [
      " * Overall: RMSE 4.421\tG-Mean 1.846\n",
      " * Many: RMSE 1.586\tG-Mean 0.795\n",
      " * Median: RMSE 3.396\tG-Mean 2.229\n",
      " * Low: RMSE 7.653\tG-Mean 6.056\n",
      "====================\n",
      "PFN BO subsample\n",
      "torch.Size([736, 14])\n"
     ]
    },
    {
     "name": "stderr",
     "output_type": "stream",
     "text": [
      "100%|██████████████████████████████████████████████████████████████████████████████████████████████████████████████████████| 543/543 [00:06<00:00, 87.20it/s]\n"
     ]
    },
    {
     "name": "stdout",
     "output_type": "stream",
     "text": [
      " * Overall: RMSE 3.738\tG-Mean 1.590\n",
      " * Many: RMSE 2.308\tG-Mean 1.105\n",
      " * Median: RMSE 2.378\tG-Mean 1.097\n",
      " * Low: RMSE 6.259\tG-Mean 4.715\n",
      "====================\n",
      "PFN BO smoter\n",
      "torch.Size([3633, 14])\n"
     ]
    },
    {
     "name": "stderr",
     "output_type": "stream",
     "text": [
      "100%|██████████████████████████████████████████████████████████████████████████████████████████████████████████████████████| 543/543 [00:06<00:00, 89.51it/s]\n"
     ]
    },
    {
     "name": "stdout",
     "output_type": "stream",
     "text": [
      " * Overall: RMSE 4.125\tG-Mean 1.615\n",
      " * Many: RMSE 2.047\tG-Mean 0.927\n",
      " * Median: RMSE 2.779\tG-Mean 1.312\n",
      " * Low: RMSE 7.109\tG-Mean 5.386\n",
      "====================\n",
      "PFN BO inverse\n",
      "torch.Size([3634, 14])\n"
     ]
    },
    {
     "name": "stderr",
     "output_type": "stream",
     "text": [
      "100%|██████████████████████████████████████████████████████████████████████████████████████████████████████████████████████| 543/543 [00:06<00:00, 87.98it/s]\n"
     ]
    },
    {
     "name": "stdout",
     "output_type": "stream",
     "text": [
      " * Overall: RMSE 4.554\tG-Mean 1.808\n",
      " * Many: RMSE 1.731\tG-Mean 0.793\n",
      " * Median: RMSE 3.495\tG-Mean 2.005\n",
      " * Low: RMSE 7.850\tG-Mean 6.403\n",
      "====================\n",
      "PFN BO all context\n",
      "torch.Size([3634, 14])\n"
     ]
    },
    {
     "name": "stderr",
     "output_type": "stream",
     "text": [
      "100%|██████████████████████████████████████████████████████████████████████████████████████████████████████████████████████| 543/543 [00:27<00:00, 19.98it/s]\n"
     ]
    },
    {
     "name": "stdout",
     "output_type": "stream",
     "text": [
      " * Overall: RMSE 4.882\tG-Mean 2.041\n",
      " * Many: RMSE 1.686\tG-Mean 0.845\n",
      " * Median: RMSE 3.917\tG-Mean 2.529\n",
      " * Low: RMSE 8.377\tG-Mean 6.927\n",
      "====================================================================================================\n",
      "Loading dataset : Kin8nm\n"
     ]
    },
    {
     "data": {
      "image/png": "[encoded data removed]",
      "text/plain": [
       "<Figure size 640x480 with 1 Axes>"
      ]
     },
     "metadata": {},
     "output_type": "display_data"
    },
    {
     "name": "stdout",
     "output_type": "stream",
     "text": [
      "====================\n",
      "Knn\n",
      "Sklearn\n",
      " * Overall: RMSE 0.175\tG-Mean 0.097\n",
      " * Many: RMSE 0.116\tG-Mean 0.060\n",
      " * Median: RMSE 0.183\tG-Mean 0.147\n",
      " * Low: RMSE 0.285\tG-Mean 0.259\n",
      "====================\n",
      "Gradient Boosting\n",
      "Sklearn\n",
      " * Overall: RMSE 0.239\tG-Mean 0.138\n",
      " * Many: RMSE 0.159\tG-Mean 0.084\n",
      " * Median: RMSE 0.262\tG-Mean 0.220\n",
      " * Low: RMSE 0.377\tG-Mean 0.353\n",
      "====================\n",
      "Decision Tree\n",
      "Sklearn\n",
      " * Overall: RMSE 0.243\tG-Mean 0.119\n",
      " * Many: RMSE 0.206\tG-Mean 0.103\n",
      " * Median: RMSE 0.240\tG-Mean 0.112\n",
      " * Low: RMSE 0.336\tG-Mean 0.205\n",
      "====================\n",
      "Neural Network\n",
      "Sklearn\n",
      " * Overall: RMSE 0.095\tG-Mean 0.045\n",
      " * Many: RMSE 0.076\tG-Mean 0.036\n",
      " * Median: RMSE 0.094\tG-Mean 0.049\n",
      " * Low: RMSE 0.138\tG-Mean 0.082\n",
      "====================\n",
      "GPT2 vanilla\n",
      "torch.Size([6766, 16])\n"
     ]
    },
    {
     "name": "stderr",
     "output_type": "stream",
     "text": [
      "100%|████████████████████████████████████████████████████████████████████████████████████████████████████████████████████| 1426/1426 [00:18<00:00, 77.79it/s]\n"
     ]
    },
    {
     "name": "stdout",
     "output_type": "stream",
     "text": [
      " * Overall: RMSE 0.146\tG-Mean 0.075\n",
      " * Many: RMSE 0.110\tG-Mean 0.056\n",
      " * Median: RMSE 0.150\tG-Mean 0.089\n",
      " * Low: RMSE 0.223\tG-Mean 0.153\n",
      "====================\n",
      "GPT2 subsample\n",
      "torch.Size([2180, 16])\n"
     ]
    },
    {
     "name": "stderr",
     "output_type": "stream",
     "text": [
      "100%|████████████████████████████████████████████████████████████████████████████████████████████████████████████████████| 1426/1426 [00:17<00:00, 79.61it/s]\n"
     ]
    },
    {
     "name": "stdout",
     "output_type": "stream",
     "text": [
      " * Overall: RMSE 0.135\tG-Mean 0.067\n",
      " * Many: RMSE 0.130\tG-Mean 0.062\n",
      " * Median: RMSE 0.116\tG-Mean 0.061\n",
      " * Low: RMSE 0.171\tG-Mean 0.099\n",
      "====================\n",
      "GPT2 smoter\n",
      "torch.Size([6765, 16])\n"
     ]
    },
    {
     "name": "stderr",
     "output_type": "stream",
     "text": [
      "100%|████████████████████████████████████████████████████████████████████████████████████████████████████████████████████| 1426/1426 [00:18<00:00, 78.46it/s]\n"
     ]
    },
    {
     "name": "stdout",
     "output_type": "stream",
     "text": [
      " * Overall: RMSE 0.138\tG-Mean 0.067\n",
      " * Many: RMSE 0.122\tG-Mean 0.054\n",
      " * Median: RMSE 0.129\tG-Mean 0.071\n",
      " * Low: RMSE 0.190\tG-Mean 0.121\n",
      "====================\n",
      "GPT2 inverse\n",
      "torch.Size([6766, 16])\n"
     ]
    },
    {
     "name": "stderr",
     "output_type": "stream",
     "text": [
      "100%|████████████████████████████████████████████████████████████████████████████████████████████████████████████████████| 1426/1426 [00:18<00:00, 76.67it/s]\n"
     ]
    },
    {
     "name": "stdout",
     "output_type": "stream",
     "text": [
      " * Overall: RMSE 0.134\tG-Mean 0.068\n",
      " * Many: RMSE 0.108\tG-Mean 0.053\n",
      " * Median: RMSE 0.131\tG-Mean 0.075\n",
      " * Low: RMSE 0.198\tG-Mean 0.128\n",
      "====================\n",
      "PFN BO vanilla\n",
      "torch.Size([6766, 16])\n"
     ]
    },
    {
     "name": "stderr",
     "output_type": "stream",
     "text": [
      "100%|████████████████████████████████████████████████████████████████████████████████████████████████████████████████████| 1426/1426 [00:14<00:00, 95.23it/s]\n"
     ]
    },
    {
     "name": "stdout",
     "output_type": "stream",
     "text": [
      " * Overall: RMSE 0.187\tG-Mean 0.094\n",
      " * Many: RMSE 0.138\tG-Mean 0.067\n",
      " * Median: RMSE 0.188\tG-Mean 0.113\n",
      " * Low: RMSE 0.291\tG-Mean 0.215\n",
      "====================\n",
      "PFN BO subsample\n",
      "torch.Size([2180, 16])\n"
     ]
    },
    {
     "name": "stderr",
     "output_type": "stream",
     "text": [
      "100%|████████████████████████████████████████████████████████████████████████████████████████████████████████████████████| 1426/1426 [00:15<00:00, 90.86it/s]\n"
     ]
    },
    {
     "name": "stdout",
     "output_type": "stream",
     "text": [
      " * Overall: RMSE 0.184\tG-Mean 0.095\n",
      " * Many: RMSE 0.161\tG-Mean 0.080\n",
      " * Median: RMSE 0.167\tG-Mean 0.085\n",
      " * Low: RMSE 0.258\tG-Mean 0.186\n",
      "====================\n",
      "PFN BO smoter\n",
      "torch.Size([6765, 16])\n"
     ]
    },
    {
     "name": "stderr",
     "output_type": "stream",
     "text": [
      "100%|████████████████████████████████████████████████████████████████████████████████████████████████████████████████████| 1426/1426 [00:16<00:00, 87.82it/s]\n"
     ]
    },
    {
     "name": "stdout",
     "output_type": "stream",
     "text": [
      " * Overall: RMSE 0.182\tG-Mean 0.089\n",
      " * Many: RMSE 0.148\tG-Mean 0.071\n",
      " * Median: RMSE 0.179\tG-Mean 0.087\n",
      " * Low: RMSE 0.265\tG-Mean 0.193\n",
      "====================\n",
      "PFN BO inverse\n",
      "torch.Size([6766, 16])\n"
     ]
    },
    {
     "name": "stderr",
     "output_type": "stream",
     "text": [
      "100%|████████████████████████████████████████████████████████████████████████████████████████████████████████████████████| 1426/1426 [00:16<00:00, 88.86it/s]\n"
     ]
    },
    {
     "name": "stdout",
     "output_type": "stream",
     "text": [
      " * Overall: RMSE 0.183\tG-Mean 0.091\n",
      " * Many: RMSE 0.132\tG-Mean 0.064\n",
      " * Median: RMSE 0.184\tG-Mean 0.108\n",
      " * Low: RMSE 0.291\tG-Mean 0.222\n",
      "====================\n",
      "PFN BO all context\n",
      "torch.Size([6766, 16])\n"
     ]
    },
    {
     "name": "stderr",
     "output_type": "stream",
     "text": [
      "100%|████████████████████████████████████████████████████████████████████████████████████████████████████████████████████| 1426/1426 [03:32<00:00,  6.72it/s]\n"
     ]
    },
    {
     "name": "stdout",
     "output_type": "stream",
     "text": [
      " * Overall: RMSE 0.236\tG-Mean 0.131\n",
      " * Many: RMSE 0.148\tG-Mean 0.077\n",
      " * Median: RMSE 0.262\tG-Mean 0.220\n",
      " * Low: RMSE 0.381\tG-Mean 0.361\n",
      "====================================================================================================\n",
      "Loading dataset : Communities\n"
     ]
    },
    {
     "data": {
      "image/png": "[encoded data removed]",
      "text/plain": [
       "<Figure size 640x480 with 1 Axes>"
      ]
     },
     "metadata": {},
     "output_type": "display_data"
    },
    {
     "name": "stdout",
     "output_type": "stream",
     "text": [
      "====================\n",
      "Knn\n",
      "Sklearn\n",
      " * Overall: RMSE 0.213\tG-Mean 0.092\n",
      " * Many: RMSE 0.058\tG-Mean 0.028\n",
      " * Median: RMSE 0.121\tG-Mean 0.058\n",
      " * Low: RMSE 0.266\tG-Mean 0.154\n",
      "====================\n",
      "Gradient Boosting\n",
      "Sklearn\n",
      " * Overall: RMSE 0.203\tG-Mean 0.079\n",
      " * Many: RMSE 0.053\tG-Mean 0.024\n",
      " * Median: RMSE 0.096\tG-Mean 0.039\n",
      " * Low: RMSE 0.258\tG-Mean 0.149\n",
      "====================\n",
      "Decision Tree\n",
      "Sklearn\n",
      " * Overall: RMSE 0.267\tG-Mean 0.063\n",
      " * Many: RMSE 0.116\tG-Mean 0.008\n",
      " * Median: RMSE 0.149\tG-Mean 0.046\n",
      " * Low: RMSE 0.332\tG-Mean 0.114\n",
      "====================\n",
      "Neural Network\n",
      "Sklearn\n",
      " * Overall: RMSE 0.221\tG-Mean 0.099\n",
      " * Many: RMSE 0.092\tG-Mean 0.040\n",
      " * Median: RMSE 0.130\tG-Mean 0.059\n",
      " * Low: RMSE 0.274\tG-Mean 0.159\n",
      "====================\n",
      "GPT2 vanilla\n",
      "torch.Size([1684, 202])\n"
     ]
    },
    {
     "name": "stderr",
     "output_type": "stream",
     "text": [
      "100%|██████████████████████████████████████████████████████████████████████████████████████████████████████████████████████| 310/310 [00:04<00:00, 66.16it/s]\n"
     ]
    },
    {
     "name": "stdout",
     "output_type": "stream",
     "text": [
      " * Overall: RMSE 0.197\tG-Mean 0.072\n",
      " * Many: RMSE 0.065\tG-Mean 0.028\n",
      " * Median: RMSE 0.101\tG-Mean 0.043\n",
      " * Low: RMSE 0.249\tG-Mean 0.118\n",
      "====================\n",
      "GPT2 subsample\n",
      "torch.Size([374, 202])\n"
     ]
    },
    {
     "name": "stderr",
     "output_type": "stream",
     "text": [
      "100%|██████████████████████████████████████████████████████████████████████████████████████████████████████████████████████| 310/310 [00:04<00:00, 66.16it/s]\n"
     ]
    },
    {
     "name": "stdout",
     "output_type": "stream",
     "text": [
      " * Overall: RMSE 0.181\tG-Mean 0.086\n",
      " * Many: RMSE 0.105\tG-Mean 0.044\n",
      " * Median: RMSE 0.186\tG-Mean 0.112\n",
      " * Low: RMSE 0.191\tG-Mean 0.084\n",
      "====================\n",
      "GPT2 smoter\n",
      "torch.Size([1684, 202])\n"
     ]
    },
    {
     "name": "stderr",
     "output_type": "stream",
     "text": [
      "100%|██████████████████████████████████████████████████████████████████████████████████████████████████████████████████████| 310/310 [00:05<00:00, 60.76it/s]\n"
     ]
    },
    {
     "name": "stdout",
     "output_type": "stream",
     "text": [
      " * Overall: RMSE 0.183\tG-Mean 0.082\n",
      " * Many: RMSE 0.089\tG-Mean 0.028\n",
      " * Median: RMSE 0.153\tG-Mean 0.088\n",
      " * Low: RMSE 0.211\tG-Mean 0.099\n",
      "====================\n",
      "GPT2 inverse\n",
      "torch.Size([1684, 202])\n"
     ]
    },
    {
     "name": "stderr",
     "output_type": "stream",
     "text": [
      "100%|██████████████████████████████████████████████████████████████████████████████████████████████████████████████████████| 310/310 [00:04<00:00, 65.55it/s]\n"
     ]
    },
    {
     "name": "stdout",
     "output_type": "stream",
     "text": [
      " * Overall: RMSE 0.186\tG-Mean 0.086\n",
      " * Many: RMSE 0.105\tG-Mean 0.052\n",
      " * Median: RMSE 0.114\tG-Mean 0.060\n",
      " * Low: RMSE 0.226\tG-Mean 0.116\n",
      "====================\n",
      "PFN BO vanilla\n",
      "torch.Size([1684, 202])\n"
     ]
    },
    {
     "name": "stderr",
     "output_type": "stream",
     "text": [
      "100%|██████████████████████████████████████████████████████████████████████████████████████████████████████████████████████| 310/310 [00:03<00:00, 78.27it/s]\n"
     ]
    },
    {
     "name": "stdout",
     "output_type": "stream",
     "text": [
      " * Overall: RMSE 0.215\tG-Mean 0.088\n",
      " * Many: RMSE 0.064\tG-Mean 0.026\n",
      " * Median: RMSE 0.096\tG-Mean 0.045\n",
      " * Low: RMSE 0.275\tG-Mean 0.165\n",
      "====================\n",
      "PFN BO subsample\n",
      "torch.Size([374, 202])\n"
     ]
    },
    {
     "name": "stderr",
     "output_type": "stream",
     "text": [
      "100%|██████████████████████████████████████████████████████████████████████████████████████████████████████████████████████| 310/310 [00:04<00:00, 68.56it/s]\n"
     ]
    },
    {
     "name": "stdout",
     "output_type": "stream",
     "text": [
      " * Overall: RMSE 0.179\tG-Mean 0.093\n",
      " * Many: RMSE 0.097\tG-Mean 0.059\n",
      " * Median: RMSE 0.155\tG-Mean 0.087\n",
      " * Low: RMSE 0.203\tG-Mean 0.106\n",
      "====================\n",
      "PFN BO smoter\n",
      "torch.Size([1684, 202])\n"
     ]
    },
    {
     "name": "stderr",
     "output_type": "stream",
     "text": [
      "100%|██████████████████████████████████████████████████████████████████████████████████████████████████████████████████████| 310/310 [00:04<00:00, 71.87it/s]\n"
     ]
    },
    {
     "name": "stdout",
     "output_type": "stream",
     "text": [
      " * Overall: RMSE 0.192\tG-Mean 0.088\n",
      " * Many: RMSE 0.087\tG-Mean 0.037\n",
      " * Median: RMSE 0.137\tG-Mean 0.070\n",
      " * Low: RMSE 0.230\tG-Mean 0.118\n",
      "====================\n",
      "PFN BO inverse\n",
      "torch.Size([1684, 202])\n"
     ]
    },
    {
     "name": "stderr",
     "output_type": "stream",
     "text": [
      "100%|██████████████████████████████████████████████████████████████████████████████████████████████████████████████████████| 310/310 [00:03<00:00, 77.88it/s]\n"
     ]
    },
    {
     "name": "stdout",
     "output_type": "stream",
     "text": [
      " * Overall: RMSE 0.210\tG-Mean 0.087\n",
      " * Many: RMSE 0.085\tG-Mean 0.040\n",
      " * Median: RMSE 0.093\tG-Mean 0.046\n",
      " * Low: RMSE 0.267\tG-Mean 0.145\n",
      "====================\n",
      "PFN BO all context\n",
      "torch.Size([1684, 202])\n"
     ]
    },
    {
     "name": "stderr",
     "output_type": "stream",
     "text": [
      "100%|██████████████████████████████████████████████████████████████████████████████████████████████████████████████████████| 310/310 [00:52<00:00,  5.95it/s]\n"
     ]
    },
    {
     "name": "stdout",
     "output_type": "stream",
     "text": [
      " * Overall: RMSE 0.283\tG-Mean 0.131\n",
      " * Many: RMSE 0.090\tG-Mean 0.069\n",
      " * Median: RMSE 0.079\tG-Mean 0.042\n",
      " * Low: RMSE 0.369\tG-Mean 0.282\n",
      "====================================================================================================\n",
      "Loading dataset : Airfoil_baisier\n"
     ]
    },
    {
     "data": {
      "image/png": "[encoded data removed]",
      "text/plain": [
       "<Figure size 640x480 with 1 Axes>"
      ]
     },
     "metadata": {},
     "output_type": "display_data"
    },
    {
     "name": "stdout",
     "output_type": "stream",
     "text": [
      "====================\n",
      "Knn\n",
      "Sklearn\n",
      " * Overall: RMSE 0.270\tG-Mean 0.129\n",
      " * Many: RMSE 0.264\tG-Mean 0.128\n",
      " * Median: RMSE 0.560\tG-Mean 0.332\n",
      " * Low: RMSE 1.059\tG-Mean 0.758\n",
      "====================\n",
      "Gradient Boosting\n",
      "Sklearn\n",
      " * Overall: RMSE 0.253\tG-Mean 0.129\n",
      " * Many: RMSE 0.247\tG-Mean 0.128\n",
      " * Median: RMSE 0.542\tG-Mean 0.296\n",
      " * Low: RMSE 1.032\tG-Mean 0.614\n",
      "====================\n",
      "Decision Tree\n",
      "Sklearn\n",
      " * Overall: RMSE 0.338\tG-Mean 0.157\n",
      " * Many: RMSE 0.334\tG-Mean 0.156\n",
      " * Median: RMSE 0.558\tG-Mean 0.243\n",
      " * Low: RMSE 0.971\tG-Mean 0.488\n",
      "====================\n",
      "Neural Network\n",
      "Sklearn\n",
      " * Overall: RMSE 0.117\tG-Mean 0.049\n",
      " * Many: RMSE 0.114\tG-Mean 0.049\n",
      " * Median: RMSE 0.270\tG-Mean 0.095\n",
      " * Low: RMSE 0.559\tG-Mean 0.221\n",
      "====================\n",
      "GPT2 vanilla\n",
      "torch.Size([38802, 192])\n"
     ]
    },
    {
     "name": "stderr",
     "output_type": "stream",
     "text": [
      "100%|████████████████████████████████████████████████████████████████████████████████████████████████████████████████████| 9701/9701 [02:11<00:00, 73.94it/s]\n"
     ]
    },
    {
     "name": "stdout",
     "output_type": "stream",
     "text": [
      " * Overall: RMSE 0.204\tG-Mean 0.099\n",
      " * Many: RMSE 0.201\tG-Mean 0.098\n",
      " * Median: RMSE 0.394\tG-Mean 0.213\n",
      " * Low: RMSE 0.654\tG-Mean 0.416\n",
      "====================\n",
      "GPT2 subsample\n",
      "torch.Size([8384, 192])\n"
     ]
    },
    {
     "name": "stderr",
     "output_type": "stream",
     "text": [
      "100%|████████████████████████████████████████████████████████████████████████████████████████████████████████████████████| 9701/9701 [02:03<00:00, 78.40it/s]\n"
     ]
    },
    {
     "name": "stdout",
     "output_type": "stream",
     "text": [
      " * Overall: RMSE 0.320\tG-Mean 0.151\n",
      " * Many: RMSE 0.320\tG-Mean 0.151\n",
      " * Median: RMSE 0.333\tG-Mean 0.184\n",
      " * Low: RMSE 0.615\tG-Mean 0.405\n",
      "====================\n",
      "GPT2 smoter\n",
      "torch.Size([38801, 192])\n"
     ]
    },
    {
     "name": "stderr",
     "output_type": "stream",
     "text": [
      "100%|████████████████████████████████████████████████████████████████████████████████████████████████████████████████████| 9701/9701 [02:08<00:00, 75.77it/s]\n"
     ]
    },
    {
     "name": "stdout",
     "output_type": "stream",
     "text": [
      " * Overall: RMSE 0.247\tG-Mean 0.115\n",
      " * Many: RMSE 0.245\tG-Mean 0.114\n",
      " * Median: RMSE 0.387\tG-Mean 0.241\n",
      " * Low: RMSE 0.628\tG-Mean 0.334\n",
      "====================\n",
      "GPT2 inverse\n",
      "torch.Size([38802, 192])\n"
     ]
    },
    {
     "name": "stderr",
     "output_type": "stream",
     "text": [
      "100%|████████████████████████████████████████████████████████████████████████████████████████████████████████████████████| 9701/9701 [02:08<00:00, 75.27it/s]\n"
     ]
    },
    {
     "name": "stdout",
     "output_type": "stream",
     "text": [
      " * Overall: RMSE 0.230\tG-Mean 0.110\n",
      " * Many: RMSE 0.230\tG-Mean 0.110\n",
      " * Median: RMSE 0.272\tG-Mean 0.116\n",
      " * Low: RMSE 0.469\tG-Mean 0.183\n",
      "====================\n",
      "PFN BO vanilla\n",
      "torch.Size([38802, 192])\n"
     ]
    },
    {
     "name": "stderr",
     "output_type": "stream",
     "text": [
      "100%|████████████████████████████████████████████████████████████████████████████████████████████████████████████████████| 9701/9701 [01:41<00:00, 95.58it/s]\n"
     ]
    },
    {
     "name": "stdout",
     "output_type": "stream",
     "text": [
      " * Overall: RMSE 0.193\tG-Mean 0.091\n",
      " * Many: RMSE 0.187\tG-Mean 0.090\n",
      " * Median: RMSE 0.474\tG-Mean 0.327\n",
      " * Low: RMSE 0.788\tG-Mean 0.556\n",
      "====================\n",
      "PFN BO subsample\n",
      "torch.Size([8384, 192])\n"
     ]
    },
    {
     "name": "stderr",
     "output_type": "stream",
     "text": [
      "100%|████████████████████████████████████████████████████████████████████████████████████████████████████████████████████| 9701/9701 [01:42<00:00, 94.95it/s]\n"
     ]
    },
    {
     "name": "stdout",
     "output_type": "stream",
     "text": [
      " * Overall: RMSE 0.276\tG-Mean 0.125\n",
      " * Many: RMSE 0.273\tG-Mean 0.124\n",
      " * Median: RMSE 0.457\tG-Mean 0.330\n",
      " * Low: RMSE 0.728\tG-Mean 0.502\n",
      "====================\n",
      "PFN BO smoter\n",
      "torch.Size([38801, 192])\n"
     ]
    },
    {
     "name": "stderr",
     "output_type": "stream",
     "text": [
      "100%|████████████████████████████████████████████████████████████████████████████████████████████████████████████████████| 9701/9701 [01:42<00:00, 94.35it/s]\n"
     ]
    },
    {
     "name": "stdout",
     "output_type": "stream",
     "text": [
      " * Overall: RMSE 0.227\tG-Mean 0.101\n",
      " * Many: RMSE 0.223\tG-Mean 0.100\n",
      " * Median: RMSE 0.451\tG-Mean 0.297\n",
      " * Low: RMSE 0.849\tG-Mean 0.602\n",
      "====================\n",
      "PFN BO inverse\n",
      "torch.Size([38802, 192])\n"
     ]
    },
    {
     "name": "stderr",
     "output_type": "stream",
     "text": [
      "100%|████████████████████████████████████████████████████████████████████████████████████████████████████████████████████| 9701/9701 [01:41<00:00, 95.31it/s]\n"
     ]
    },
    {
     "name": "stdout",
     "output_type": "stream",
     "text": [
      " * Overall: RMSE 0.209\tG-Mean 0.103\n",
      " * Many: RMSE 0.203\tG-Mean 0.101\n",
      " * Median: RMSE 0.487\tG-Mean 0.352\n",
      " * Low: RMSE 0.849\tG-Mean 0.652\n",
      "====================\n",
      "PFN BO all context\n",
      "====================================================================================================\n",
      "Loading dataset : Boston\n"
     ]
    },
    {
     "data": {
      "image/png": "[encoded data removed]",
      "text/plain": [
       "<Figure size 640x480 with 1 Axes>"
      ]
     },
     "metadata": {},
     "output_type": "display_data"
    },
    {
     "name": "stdout",
     "output_type": "stream",
     "text": [
      "====================\n",
      "Knn\n",
      "Sklearn\n",
      " * Overall: RMSE 5.962\tG-Mean 2.350\n",
      " * Many: RMSE 1.365\tG-Mean 0.626\n",
      " * Median: RMSE 4.587\tG-Mean 1.958\n",
      " * Low: RMSE 8.014\tG-Mean 4.390\n",
      "====================\n",
      "Gradient Boosting\n",
      "Sklearn\n",
      " * Overall: RMSE 3.613\tG-Mean 1.767\n",
      " * Many: RMSE 1.050\tG-Mean 1.024\n",
      " * Median: RMSE 3.204\tG-Mean 1.631\n",
      " * Low: RMSE 4.492\tG-Mean 2.299\n",
      "====================\n",
      "Decision Tree\n",
      "Sklearn\n",
      " * Overall: RMSE 7.163\tG-Mean 0.498\n",
      " * Many: RMSE 2.775\tG-Mean 0.023\n",
      " * Median: RMSE 8.320\tG-Mean 1.934\n",
      " * Low: RMSE 6.400\tG-Mean 0.212\n",
      "====================\n",
      "Neural Network\n",
      "Sklearn\n",
      " * Overall: RMSE 3.244\tG-Mean 1.611\n",
      " * Many: RMSE 1.732\tG-Mean 0.767\n",
      " * Median: RMSE 3.531\tG-Mean 1.604\n",
      " * Low: RMSE 3.196\tG-Mean 2.015\n",
      "====================\n",
      "GPT2 vanilla\n",
      "torch.Size([462, 26])\n"
     ]
    },
    {
     "name": "stderr",
     "output_type": "stream",
     "text": [
      "100%|████████████████████████████████████████████████████████████████████████████████████████████████████████████████████████| 44/44 [00:01<00:00, 32.91it/s]\n"
     ]
    },
    {
     "name": "stdout",
     "output_type": "stream",
     "text": [
      " * Overall: RMSE 3.406\tG-Mean 1.768\n",
      " * Many: RMSE 1.148\tG-Mean 0.748\n",
      " * Median: RMSE 3.549\tG-Mean 1.842\n",
      " * Low: RMSE 3.653\tG-Mean 2.160\n",
      "====================\n",
      "GPT2 subsample\n",
      "torch.Size([128, 26])\n"
     ]
    },
    {
     "name": "stderr",
     "output_type": "stream",
     "text": [
      "100%|████████████████████████████████████████████████████████████████████████████████████████████████████████████████████████| 44/44 [00:01<00:00, 32.96it/s]\n"
     ]
    },
    {
     "name": "stdout",
     "output_type": "stream",
     "text": [
      " * Overall: RMSE 3.969\tG-Mean 2.197\n",
      " * Many: RMSE 2.808\tG-Mean 1.400\n",
      " * Median: RMSE 4.771\tG-Mean 3.111\n",
      " * Low: RMSE 3.001\tG-Mean 1.599\n",
      "====================\n",
      "GPT2 smoter\n",
      "torch.Size([461, 26])\n"
     ]
    },
    {
     "name": "stderr",
     "output_type": "stream",
     "text": [
      "100%|████████████████████████████████████████████████████████████████████████████████████████████████████████████████████████| 44/44 [00:01<00:00, 32.29it/s]\n"
     ]
    },
    {
     "name": "stdout",
     "output_type": "stream",
     "text": [
      " * Overall: RMSE 4.516\tG-Mean 1.808\n",
      " * Many: RMSE 1.538\tG-Mean 0.631\n",
      " * Median: RMSE 5.233\tG-Mean 2.069\n",
      " * Low: RMSE 4.082\tG-Mean 2.071\n",
      "====================\n",
      "GPT2 inverse\n",
      "torch.Size([462, 26])\n"
     ]
    },
    {
     "name": "stderr",
     "output_type": "stream",
     "text": [
      "100%|████████████████████████████████████████████████████████████████████████████████████████████████████████████████████████| 44/44 [00:01<00:00, 33.38it/s]\n"
     ]
    },
    {
     "name": "stdout",
     "output_type": "stream",
     "text": [
      " * Overall: RMSE 3.415\tG-Mean 2.266\n",
      " * Many: RMSE 1.775\tG-Mean 1.080\n",
      " * Median: RMSE 3.831\tG-Mean 2.612\n",
      " * Low: RMSE 3.204\tG-Mean 2.345\n",
      "====================\n",
      "PFN BO vanilla\n",
      "torch.Size([462, 26])\n"
     ]
    },
    {
     "name": "stderr",
     "output_type": "stream",
     "text": [
      "100%|████████████████████████████████████████████████████████████████████████████████████████████████████████████████████████| 44/44 [00:01<00:00, 32.51it/s]\n"
     ]
    },
    {
     "name": "stdout",
     "output_type": "stream",
     "text": [
      " * Overall: RMSE 4.259\tG-Mean 1.797\n",
      " * Many: RMSE 1.026\tG-Mean 0.589\n",
      " * Median: RMSE 3.745\tG-Mean 1.471\n",
      " * Low: RMSE 5.338\tG-Mean 3.230\n",
      "====================\n",
      "PFN BO subsample\n",
      "torch.Size([128, 26])\n"
     ]
    },
    {
     "name": "stderr",
     "output_type": "stream",
     "text": [
      "100%|████████████████████████████████████████████████████████████████████████████████████████████████████████████████████████| 44/44 [00:01<00:00, 35.24it/s]\n"
     ]
    },
    {
     "name": "stdout",
     "output_type": "stream",
     "text": [
      " * Overall: RMSE 4.352\tG-Mean 1.938\n",
      " * Many: RMSE 1.635\tG-Mean 1.495\n",
      " * Median: RMSE 4.922\tG-Mean 1.874\n",
      " * Low: RMSE 4.109\tG-Mean 2.185\n",
      "====================\n",
      "PFN BO smoter\n",
      "torch.Size([461, 26])\n"
     ]
    },
    {
     "name": "stderr",
     "output_type": "stream",
     "text": [
      "100%|████████████████████████████████████████████████████████████████████████████████████████████████████████████████████████| 44/44 [00:01<00:00, 35.32it/s]\n"
     ]
    },
    {
     "name": "stdout",
     "output_type": "stream",
     "text": [
      " * Overall: RMSE 3.844\tG-Mean 1.690\n",
      " * Many: RMSE 1.318\tG-Mean 0.790\n",
      " * Median: RMSE 4.011\tG-Mean 1.410\n",
      " * Low: RMSE 4.112\tG-Mean 2.671\n",
      "====================\n",
      "PFN BO inverse\n",
      "torch.Size([462, 26])\n"
     ]
    },
    {
     "name": "stderr",
     "output_type": "stream",
     "text": [
      "100%|████████████████████████████████████████████████████████████████████████████████████████████████████████████████████████| 44/44 [00:01<00:00, 33.39it/s]\n"
     ]
    },
    {
     "name": "stdout",
     "output_type": "stream",
     "text": [
      " * Overall: RMSE 3.998\tG-Mean 1.513\n",
      " * Many: RMSE 1.084\tG-Mean 0.948\n",
      " * Median: RMSE 3.663\tG-Mean 1.177\n",
      " * Low: RMSE 4.864\tG-Mean 2.403\n",
      "====================\n",
      "PFN BO all context\n",
      "torch.Size([462, 26])\n"
     ]
    },
    {
     "name": "stderr",
     "output_type": "stream",
     "text": [
      "100%|████████████████████████████████████████████████████████████████████████████████████████████████████████████████████████| 44/44 [00:01<00:00, 32.83it/s]\n"
     ]
    },
    {
     "name": "stdout",
     "output_type": "stream",
     "text": [
      " * Overall: RMSE 4.592\tG-Mean 2.249\n",
      " * Many: RMSE 1.092\tG-Mean 1.020\n",
      " * Median: RMSE 3.895\tG-Mean 1.838\n",
      " * Low: RMSE 5.882\tG-Mean 3.682\n",
      "====================================================================================================\n",
      "Loading dataset : Concrete\n"
     ]
    },
    {
     "data": {
      "image/png": "[encoded data removed]",
      "text/plain": [
       "<Figure size 640x480 with 1 Axes>"
      ]
     },
     "metadata": {},
     "output_type": "display_data"
    },
    {
     "name": "stdout",
     "output_type": "stream",
     "text": [
      "====================\n",
      "Knn\n",
      "Sklearn\n",
      " * Overall: RMSE 12.303\tG-Mean 6.802\n",
      " * Many: RMSE 7.409\tG-Mean 3.999\n",
      " * Median: RMSE 9.531\tG-Mean 5.971\n",
      " * Low: RMSE 19.387\tG-Mean 15.866\n",
      "====================\n",
      "Gradient Boosting\n",
      "Sklearn\n",
      " * Overall: RMSE 6.633\tG-Mean 2.903\n",
      " * Many: RMSE 4.759\tG-Mean 2.386\n",
      " * Median: RMSE 4.917\tG-Mean 2.317\n",
      " * Low: RMSE 10.297\tG-Mean 5.574\n",
      "====================\n",
      "Decision Tree\n",
      "Sklearn\n",
      " * Overall: RMSE 7.494\tG-Mean 0.197\n",
      " * Many: RMSE 5.325\tG-Mean 0.439\n",
      " * Median: RMSE 6.119\tG-Mean 0.316\n",
      " * Low: RMSE 11.104\tG-Mean 0.032\n",
      "====================\n",
      "Neural Network\n",
      "Sklearn\n",
      " * Overall: RMSE 7.123\tG-Mean 3.162\n",
      " * Many: RMSE 5.358\tG-Mean 2.768\n",
      " * Median: RMSE 6.142\tG-Mean 2.514\n",
      " * Low: RMSE 10.023\tG-Mean 5.702\n",
      "====================\n",
      "GPT2 vanilla\n",
      "torch.Size([836, 16])\n"
     ]
    },
    {
     "name": "stderr",
     "output_type": "stream",
     "text": [
      "100%|██████████████████████████████████████████████████████████████████████████████████████████████████████████████████████| 194/194 [00:03<00:00, 54.45it/s]\n"
     ]
    },
    {
     "name": "stdout",
     "output_type": "stream",
     "text": [
      " * Overall: RMSE 6.148\tG-Mean 2.393\n",
      " * Many: RMSE 4.646\tG-Mean 2.736\n",
      " * Median: RMSE 5.446\tG-Mean 2.218\n",
      " * Low: RMSE 8.464\tG-Mean 2.382\n",
      "====================\n",
      "GPT2 subsample\n",
      "torch.Size([178, 16])\n"
     ]
    },
    {
     "name": "stderr",
     "output_type": "stream",
     "text": [
      "100%|██████████████████████████████████████████████████████████████████████████████████████████████████████████████████████| 194/194 [00:03<00:00, 61.85it/s]\n"
     ]
    },
    {
     "name": "stdout",
     "output_type": "stream",
     "text": [
      " * Overall: RMSE 7.871\tG-Mean 3.353\n",
      " * Many: RMSE 7.974\tG-Mean 4.116\n",
      " * Median: RMSE 7.500\tG-Mean 3.063\n",
      " * Low: RMSE 8.430\tG-Mean 3.169\n",
      "====================\n",
      "GPT2 smoter\n",
      "torch.Size([835, 16])\n"
     ]
    },
    {
     "name": "stderr",
     "output_type": "stream",
     "text": [
      "100%|██████████████████████████████████████████████████████████████████████████████████████████████████████████████████████| 194/194 [00:03<00:00, 62.05it/s]\n"
     ]
    },
    {
     "name": "stdout",
     "output_type": "stream",
     "text": [
      " * Overall: RMSE 6.349\tG-Mean 2.768\n",
      " * Many: RMSE 5.941\tG-Mean 3.561\n",
      " * Median: RMSE 5.309\tG-Mean 2.145\n",
      " * Low: RMSE 8.318\tG-Mean 3.399\n",
      "====================\n",
      "GPT2 inverse\n",
      "torch.Size([836, 16])\n"
     ]
    },
    {
     "name": "stderr",
     "output_type": "stream",
     "text": [
      "100%|██████████████████████████████████████████████████████████████████████████████████████████████████████████████████████| 194/194 [00:03<00:00, 59.27it/s]\n"
     ]
    },
    {
     "name": "stdout",
     "output_type": "stream",
     "text": [
      " * Overall: RMSE 5.891\tG-Mean 2.394\n",
      " * Many: RMSE 4.790\tG-Mean 2.375\n",
      " * Median: RMSE 5.133\tG-Mean 2.273\n",
      " * Low: RMSE 7.996\tG-Mean 2.668\n",
      "====================\n",
      "PFN BO vanilla\n",
      "torch.Size([836, 16])\n"
     ]
    },
    {
     "name": "stderr",
     "output_type": "stream",
     "text": [
      "100%|██████████████████████████████████████████████████████████████████████████████████████████████████████████████████████| 194/194 [00:02<00:00, 68.82it/s]\n"
     ]
    },
    {
     "name": "stdout",
     "output_type": "stream",
     "text": [
      " * Overall: RMSE 7.021\tG-Mean 2.203\n",
      " * Many: RMSE 4.430\tG-Mean 1.838\n",
      " * Median: RMSE 4.787\tG-Mean 1.920\n",
      " * Low: RMSE 11.543\tG-Mean 3.512\n",
      "====================\n",
      "PFN BO subsample\n",
      "torch.Size([178, 16])\n"
     ]
    },
    {
     "name": "stderr",
     "output_type": "stream",
     "text": [
      "100%|██████████████████████████████████████████████████████████████████████████████████████████████████████████████████████| 194/194 [00:03<00:00, 61.85it/s]\n"
     ]
    },
    {
     "name": "stdout",
     "output_type": "stream",
     "text": [
      " * Overall: RMSE 8.744\tG-Mean 3.874\n",
      " * Many: RMSE 9.830\tG-Mean 5.134\n",
      " * Median: RMSE 6.757\tG-Mean 2.976\n",
      " * Low: RMSE 10.622\tG-Mean 4.679\n",
      "====================\n",
      "PFN BO smoter\n",
      "torch.Size([835, 16])\n"
     ]
    },
    {
     "name": "stderr",
     "output_type": "stream",
     "text": [
      "100%|██████████████████████████████████████████████████████████████████████████████████████████████████████████████████████| 194/194 [00:02<00:00, 71.45it/s]\n"
     ]
    },
    {
     "name": "stdout",
     "output_type": "stream",
     "text": [
      " * Overall: RMSE 6.757\tG-Mean 2.846\n",
      " * Many: RMSE 5.701\tG-Mean 2.462\n",
      " * Median: RMSE 5.742\tG-Mean 2.616\n",
      " * Low: RMSE 9.207\tG-Mean 3.935\n",
      "====================\n",
      "PFN BO inverse\n",
      "torch.Size([836, 16])\n"
     ]
    },
    {
     "name": "stderr",
     "output_type": "stream",
     "text": [
      "100%|██████████████████████████████████████████████████████████████████████████████████████████████████████████████████████| 194/194 [00:02<00:00, 69.29it/s]\n"
     ]
    },
    {
     "name": "stdout",
     "output_type": "stream",
     "text": [
      " * Overall: RMSE 7.296\tG-Mean 2.248\n",
      " * Many: RMSE 4.774\tG-Mean 2.372\n",
      " * Median: RMSE 4.992\tG-Mean 1.808\n",
      " * Low: RMSE 11.906\tG-Mean 3.213\n",
      "====================\n",
      "PFN BO all context\n",
      "torch.Size([836, 16])\n"
     ]
    },
    {
     "name": "stderr",
     "output_type": "stream",
     "text": [
      "100%|██████████████████████████████████████████████████████████████████████████████████████████████████████████████████████| 194/194 [00:02<00:00, 70.19it/s]\n"
     ]
    },
    {
     "name": "stdout",
     "output_type": "stream",
     "text": [
      " * Overall: RMSE 8.699\tG-Mean 4.618\n",
      " * Many: RMSE 6.425\tG-Mean 3.474\n",
      " * Median: RMSE 7.618\tG-Mean 4.318\n",
      " * Low: RMSE 12.172\tG-Mean 7.234\n",
      "====================================================================================================\n",
      "Loading dataset : Abalone\n"
     ]
    },
    {
     "data": {
      "image/png": "[encoded data removed]",
      "text/plain": [
       "<Figure size 640x480 with 1 Axes>"
      ]
     },
     "metadata": {},
     "output_type": "display_data"
    },
    {
     "name": "stdout",
     "output_type": "stream",
     "text": [
      "====================\n",
      "Knn\n",
      "Sklearn\n",
      " * Overall: RMSE 4.422\tG-Mean 1.591\n",
      " * Many: RMSE 1.542\tG-Mean 0.537\n",
      " * Median: RMSE 3.623\tG-Mean 2.328\n",
      " * Low: RMSE 7.537\tG-Mean 6.179\n",
      "====================\n",
      "Gradient Boosting\n",
      "Sklearn\n",
      " * Overall: RMSE 4.382\tG-Mean 1.911\n",
      " * Many: RMSE 1.553\tG-Mean 0.832\n",
      " * Median: RMSE 3.552\tG-Mean 2.280\n",
      " * Low: RMSE 7.483\tG-Mean 6.241\n",
      "====================\n",
      "Decision Tree\n",
      "Sklearn\n",
      " * Overall: RMSE 4.632\tG-Mean 0.108\n",
      " * Many: RMSE 2.231\tG-Mean 0.008\n",
      " * Median: RMSE 3.965\tG-Mean 0.182\n",
      " * Low: RMSE 7.526\tG-Mean 4.535\n",
      "====================\n",
      "Neural Network\n",
      "Sklearn\n",
      " * Overall: RMSE 4.160\tG-Mean 1.795\n",
      " * Many: RMSE 1.567\tG-Mean 0.803\n",
      " * Median: RMSE 3.340\tG-Mean 2.103\n",
      " * Low: RMSE 7.090\tG-Mean 5.741\n",
      "====================\n",
      "GPT2 vanilla\n",
      "torch.Size([3634, 14])\n"
     ]
    },
    {
     "name": "stderr",
     "output_type": "stream",
     "text": [
      "100%|██████████████████████████████████████████████████████████████████████████████████████████████████████████████████████| 543/543 [00:07<00:00, 73.97it/s]\n"
     ]
    },
    {
     "name": "stdout",
     "output_type": "stream",
     "text": [
      " * Overall: RMSE 4.418\tG-Mean 1.922\n",
      " * Many: RMSE 1.736\tG-Mean 0.875\n",
      " * Median: RMSE 3.651\tG-Mean 2.283\n",
      " * Low: RMSE 7.439\tG-Mean 5.849\n",
      "====================\n",
      "GPT2 subsample\n",
      "torch.Size([736, 14])\n"
     ]
    },
    {
     "name": "stderr",
     "output_type": "stream",
     "text": [
      "100%|██████████████████████████████████████████████████████████████████████████████████████████████████████████████████████| 543/543 [00:07<00:00, 74.42it/s]\n"
     ]
    },
    {
     "name": "stdout",
     "output_type": "stream",
     "text": [
      " * Overall: RMSE 3.689\tG-Mean 1.636\n",
      " * Many: RMSE 2.341\tG-Mean 1.148\n",
      " * Median: RMSE 2.870\tG-Mean 1.256\n",
      " * Low: RMSE 5.847\tG-Mean 4.171\n",
      "====================\n",
      "GPT2 smoter\n",
      "torch.Size([3633, 14])\n"
     ]
    },
    {
     "name": "stderr",
     "output_type": "stream",
     "text": [
      "100%|██████████████████████████████████████████████████████████████████████████████████████████████████████████████████████| 543/543 [00:07<00:00, 74.55it/s]\n"
     ]
    },
    {
     "name": "stdout",
     "output_type": "stream",
     "text": [
      " * Overall: RMSE 3.881\tG-Mean 1.667\n",
      " * Many: RMSE 2.187\tG-Mean 0.982\n",
      " * Median: RMSE 3.065\tG-Mean 1.506\n",
      " * Low: RMSE 6.299\tG-Mean 4.642\n",
      "====================\n",
      "GPT2 inverse\n",
      "torch.Size([3634, 14])\n"
     ]
    },
    {
     "name": "stderr",
     "output_type": "stream",
     "text": [
      "100%|██████████████████████████████████████████████████████████████████████████████████████████████████████████████████████| 543/543 [00:08<00:00, 63.11it/s]\n"
     ]
    },
    {
     "name": "stdout",
     "output_type": "stream",
     "text": [
      " * Overall: RMSE 4.298\tG-Mean 2.227\n",
      " * Many: RMSE 2.782\tG-Mean 1.428\n",
      " * Median: RMSE 3.041\tG-Mean 2.000\n",
      " * Low: RMSE 6.955\tG-Mean 5.416\n",
      "====================\n",
      "PFN BO vanilla\n",
      "torch.Size([3634, 14])\n"
     ]
    },
    {
     "name": "stderr",
     "output_type": "stream",
     "text": [
      "100%|██████████████████████████████████████████████████████████████████████████████████████████████████████████████████████| 543/543 [00:06<00:00, 87.93it/s]\n"
     ]
    },
    {
     "name": "stdout",
     "output_type": "stream",
     "text": [
      " * Overall: RMSE 4.336\tG-Mean 1.998\n",
      " * Many: RMSE 1.657\tG-Mean 0.922\n",
      " * Median: RMSE 3.657\tG-Mean 2.420\n",
      " * Low: RMSE 7.271\tG-Mean 5.806\n",
      "====================\n",
      "PFN BO subsample\n",
      "torch.Size([736, 14])\n"
     ]
    },
    {
     "name": "stderr",
     "output_type": "stream",
     "text": [
      "100%|██████████████████████████████████████████████████████████████████████████████████████████████████████████████████████| 543/543 [00:07<00:00, 77.31it/s]\n"
     ]
    },
    {
     "name": "stdout",
     "output_type": "stream",
     "text": [
      " * Overall: RMSE 3.710\tG-Mean 1.632\n",
      " * Many: RMSE 2.411\tG-Mean 1.091\n",
      " * Median: RMSE 2.749\tG-Mean 1.323\n",
      " * Low: RMSE 5.925\tG-Mean 4.215\n",
      "====================\n",
      "PFN BO smoter\n",
      "torch.Size([3633, 14])\n"
     ]
    },
    {
     "name": "stderr",
     "output_type": "stream",
     "text": [
      "100%|██████████████████████████████████████████████████████████████████████████████████████████████████████████████████████| 543/543 [00:06<00:00, 86.70it/s]\n"
     ]
    },
    {
     "name": "stdout",
     "output_type": "stream",
     "text": [
      " * Overall: RMSE 4.075\tG-Mean 1.725\n",
      " * Many: RMSE 1.861\tG-Mean 0.928\n",
      " * Median: RMSE 3.184\tG-Mean 1.654\n",
      " * Low: RMSE 6.861\tG-Mean 5.194\n",
      "====================\n",
      "PFN BO inverse\n",
      "torch.Size([3634, 14])\n"
     ]
    },
    {
     "name": "stderr",
     "output_type": "stream",
     "text": [
      "100%|██████████████████████████████████████████████████████████████████████████████████████████████████████████████████████| 543/543 [00:06<00:00, 85.99it/s]\n"
     ]
    },
    {
     "name": "stdout",
     "output_type": "stream",
     "text": [
      " * Overall: RMSE 4.535\tG-Mean 2.252\n",
      " * Many: RMSE 1.856\tG-Mean 1.117\n",
      " * Median: RMSE 3.747\tG-Mean 2.579\n",
      " * Low: RMSE 7.606\tG-Mean 6.213\n",
      "====================\n",
      "PFN BO all context\n",
      "torch.Size([3634, 14])\n"
     ]
    },
    {
     "name": "stderr",
     "output_type": "stream",
     "text": [
      "100%|██████████████████████████████████████████████████████████████████████████████████████████████████████████████████████| 543/543 [00:27<00:00, 19.92it/s]\n"
     ]
    },
    {
     "name": "stdout",
     "output_type": "stream",
     "text": [
      " * Overall: RMSE 4.924\tG-Mean 2.194\n",
      " * Many: RMSE 1.777\tG-Mean 0.912\n",
      " * Median: RMSE 4.144\tG-Mean 2.871\n",
      " * Low: RMSE 8.302\tG-Mean 6.891\n",
      "====================================================================================================\n",
      "Loading dataset : Kin8nm\n"
     ]
    },
    {
     "data": {
      "image/png": "[encoded data removed]",
      "text/plain": [
       "<Figure size 640x480 with 1 Axes>"
      ]
     },
     "metadata": {},
     "output_type": "display_data"
    },
    {
     "name": "stdout",
     "output_type": "stream",
     "text": [
      "====================\n",
      "Knn\n",
      "Sklearn\n",
      " * Overall: RMSE 0.170\tG-Mean 0.097\n",
      " * Many: RMSE 0.111\tG-Mean 0.061\n",
      " * Median: RMSE 0.183\tG-Mean 0.144\n",
      " * Low: RMSE 0.276\tG-Mean 0.252\n",
      "====================\n",
      "Gradient Boosting\n",
      "Sklearn\n",
      " * Overall: RMSE 0.237\tG-Mean 0.140\n",
      " * Many: RMSE 0.154\tG-Mean 0.085\n",
      " * Median: RMSE 0.269\tG-Mean 0.225\n",
      " * Low: RMSE 0.371\tG-Mean 0.346\n",
      "====================\n",
      "Decision Tree\n",
      "Sklearn\n",
      " * Overall: RMSE 0.234\tG-Mean 0.112\n",
      " * Many: RMSE 0.196\tG-Mean 0.095\n",
      " * Median: RMSE 0.238\tG-Mean 0.108\n",
      " * Low: RMSE 0.324\tG-Mean 0.200\n",
      "====================\n",
      "Neural Network\n",
      "Sklearn\n",
      " * Overall: RMSE 0.091\tG-Mean 0.044\n",
      " * Many: RMSE 0.074\tG-Mean 0.036\n",
      " * Median: RMSE 0.089\tG-Mean 0.047\n",
      " * Low: RMSE 0.133\tG-Mean 0.073\n",
      "====================\n",
      "GPT2 vanilla\n",
      "torch.Size([6766, 16])\n"
     ]
    },
    {
     "name": "stderr",
     "output_type": "stream",
     "text": [
      "100%|████████████████████████████████████████████████████████████████████████████████████████████████████████████████████| 1426/1426 [00:20<00:00, 70.57it/s]\n"
     ]
    },
    {
     "name": "stdout",
     "output_type": "stream",
     "text": [
      " * Overall: RMSE 0.144\tG-Mean 0.073\n",
      " * Many: RMSE 0.103\tG-Mean 0.054\n",
      " * Median: RMSE 0.148\tG-Mean 0.085\n",
      " * Low: RMSE 0.225\tG-Mean 0.160\n",
      "====================\n",
      "GPT2 subsample\n",
      "torch.Size([2184, 16])\n"
     ]
    },
    {
     "name": "stderr",
     "output_type": "stream",
     "text": [
      "100%|████████████████████████████████████████████████████████████████████████████████████████████████████████████████████| 1426/1426 [00:17<00:00, 79.51it/s]\n"
     ]
    },
    {
     "name": "stdout",
     "output_type": "stream",
     "text": [
      " * Overall: RMSE 0.134\tG-Mean 0.068\n",
      " * Many: RMSE 0.121\tG-Mean 0.062\n",
      " * Median: RMSE 0.121\tG-Mean 0.061\n",
      " * Low: RMSE 0.183\tG-Mean 0.107\n",
      "====================\n",
      "GPT2 smoter\n",
      "torch.Size([6765, 16])\n"
     ]
    },
    {
     "name": "stderr",
     "output_type": "stream",
     "text": [
      "100%|████████████████████████████████████████████████████████████████████████████████████████████████████████████████████| 1426/1426 [00:19<00:00, 73.95it/s]\n"
     ]
    },
    {
     "name": "stdout",
     "output_type": "stream",
     "text": [
      " * Overall: RMSE 0.135\tG-Mean 0.068\n",
      " * Many: RMSE 0.116\tG-Mean 0.058\n",
      " * Median: RMSE 0.127\tG-Mean 0.066\n",
      " * Low: RMSE 0.193\tG-Mean 0.119\n",
      "====================\n",
      "GPT2 inverse\n",
      "torch.Size([6766, 16])\n"
     ]
    },
    {
     "name": "stderr",
     "output_type": "stream",
     "text": [
      "100%|████████████████████████████████████████████████████████████████████████████████████████████████████████████████████| 1426/1426 [00:20<00:00, 68.99it/s]\n"
     ]
    },
    {
     "name": "stdout",
     "output_type": "stream",
     "text": [
      " * Overall: RMSE 0.132\tG-Mean 0.067\n",
      " * Many: RMSE 0.100\tG-Mean 0.053\n",
      " * Median: RMSE 0.127\tG-Mean 0.067\n",
      " * Low: RMSE 0.205\tG-Mean 0.136\n",
      "====================\n",
      "PFN BO vanilla\n",
      "torch.Size([6766, 16])\n"
     ]
    },
    {
     "name": "stderr",
     "output_type": "stream",
     "text": [
      "100%|████████████████████████████████████████████████████████████████████████████████████████████████████████████████████| 1426/1426 [00:15<00:00, 94.94it/s]\n"
     ]
    },
    {
     "name": "stdout",
     "output_type": "stream",
     "text": [
      " * Overall: RMSE 0.179\tG-Mean 0.088\n",
      " * Many: RMSE 0.128\tG-Mean 0.060\n",
      " * Median: RMSE 0.184\tG-Mean 0.114\n",
      " * Low: RMSE 0.282\tG-Mean 0.212\n",
      "====================\n",
      "PFN BO subsample\n",
      "torch.Size([2184, 16])\n"
     ]
    },
    {
     "name": "stderr",
     "output_type": "stream",
     "text": [
      "100%|████████████████████████████████████████████████████████████████████████████████████████████████████████████████████| 1426/1426 [00:15<00:00, 94.28it/s]\n"
     ]
    },
    {
     "name": "stdout",
     "output_type": "stream",
     "text": [
      " * Overall: RMSE 0.175\tG-Mean 0.089\n",
      " * Many: RMSE 0.154\tG-Mean 0.075\n",
      " * Median: RMSE 0.152\tG-Mean 0.080\n",
      " * Low: RMSE 0.251\tG-Mean 0.183\n",
      "====================\n",
      "PFN BO smoter\n",
      "torch.Size([6765, 16])\n"
     ]
    },
    {
     "name": "stderr",
     "output_type": "stream",
     "text": [
      "100%|████████████████████████████████████████████████████████████████████████████████████████████████████████████████████| 1426/1426 [00:15<00:00, 91.70it/s]\n"
     ]
    },
    {
     "name": "stdout",
     "output_type": "stream",
     "text": [
      " * Overall: RMSE 0.176\tG-Mean 0.087\n",
      " * Many: RMSE 0.138\tG-Mean 0.069\n",
      " * Median: RMSE 0.167\tG-Mean 0.081\n",
      " * Low: RMSE 0.271\tG-Mean 0.200\n",
      "====================\n",
      "PFN BO inverse\n",
      "torch.Size([6766, 16])\n"
     ]
    },
    {
     "name": "stderr",
     "output_type": "stream",
     "text": [
      "100%|████████████████████████████████████████████████████████████████████████████████████████████████████████████████████| 1426/1426 [00:15<00:00, 92.95it/s]\n"
     ]
    },
    {
     "name": "stdout",
     "output_type": "stream",
     "text": [
      " * Overall: RMSE 0.173\tG-Mean 0.085\n",
      " * Many: RMSE 0.129\tG-Mean 0.062\n",
      " * Median: RMSE 0.167\tG-Mean 0.097\n",
      " * Low: RMSE 0.274\tG-Mean 0.202\n",
      "====================\n",
      "PFN BO all context\n",
      "torch.Size([6766, 16])\n"
     ]
    },
    {
     "name": "stderr",
     "output_type": "stream",
     "text": [
      "100%|████████████████████████████████████████████████████████████████████████████████████████████████████████████████████| 1426/1426 [03:32<00:00,  6.72it/s]\n"
     ]
    },
    {
     "name": "stdout",
     "output_type": "stream",
     "text": [
      " * Overall: RMSE 0.238\tG-Mean 0.139\n",
      " * Many: RMSE 0.149\tG-Mean 0.084\n",
      " * Median: RMSE 0.268\tG-Mean 0.220\n",
      " * Low: RMSE 0.383\tG-Mean 0.363\n",
      "====================================================================================================\n",
      "Loading dataset : Communities\n"
     ]
    },
    {
     "data": {
      "image/png": "[encoded data removed]",
      "text/plain": [
       "<Figure size 640x480 with 1 Axes>"
      ]
     },
     "metadata": {},
     "output_type": "display_data"
    },
    {
     "name": "stdout",
     "output_type": "stream",
     "text": [
      "====================\n",
      "Knn\n",
      "Sklearn\n",
      " * Overall: RMSE 0.218\tG-Mean 0.088\n",
      " * Many: RMSE 0.077\tG-Mean 0.031\n",
      " * Median: RMSE 0.115\tG-Mean 0.064\n",
      " * Low: RMSE 0.276\tG-Mean 0.134\n",
      "====================\n",
      "Gradient Boosting\n",
      "Sklearn\n",
      " * Overall: RMSE 0.210\tG-Mean 0.087\n",
      " * Many: RMSE 0.057\tG-Mean 0.031\n",
      " * Median: RMSE 0.101\tG-Mean 0.052\n",
      " * Low: RMSE 0.269\tG-Mean 0.147\n",
      "====================\n",
      "Decision Tree\n",
      "Sklearn\n",
      " * Overall: RMSE 0.266\tG-Mean 0.077\n",
      " * Many: RMSE 0.103\tG-Mean 0.012\n",
      " * Median: RMSE 0.157\tG-Mean 0.059\n",
      " * Low: RMSE 0.333\tG-Mean 0.135\n",
      "====================\n",
      "Neural Network\n",
      "Sklearn\n",
      " * Overall: RMSE 0.222\tG-Mean 0.099\n",
      " * Many: RMSE 0.109\tG-Mean 0.038\n",
      " * Median: RMSE 0.130\tG-Mean 0.069\n",
      " * Low: RMSE 0.276\tG-Mean 0.151\n",
      "====================\n",
      "GPT2 vanilla\n",
      "torch.Size([1684, 202])\n"
     ]
    },
    {
     "name": "stderr",
     "output_type": "stream",
     "text": [
      "100%|██████████████████████████████████████████████████████████████████████████████████████████████████████████████████████| 310/310 [00:04<00:00, 65.74it/s]\n"
     ]
    },
    {
     "name": "stdout",
     "output_type": "stream",
     "text": [
      " * Overall: RMSE 0.204\tG-Mean 0.087\n",
      " * Many: RMSE 0.072\tG-Mean 0.035\n",
      " * Median: RMSE 0.105\tG-Mean 0.057\n",
      " * Low: RMSE 0.260\tG-Mean 0.136\n",
      "====================\n",
      "GPT2 subsample\n",
      "torch.Size([374, 202])\n"
     ]
    },
    {
     "name": "stderr",
     "output_type": "stream",
     "text": [
      "100%|██████████████████████████████████████████████████████████████████████████████████████████████████████████████████████| 310/310 [00:04<00:00, 65.67it/s]\n"
     ]
    },
    {
     "name": "stdout",
     "output_type": "stream",
     "text": [
      " * Overall: RMSE 0.177\tG-Mean 0.080\n",
      " * Many: RMSE 0.132\tG-Mean 0.043\n",
      " * Median: RMSE 0.170\tG-Mean 0.090\n",
      " * Low: RMSE 0.190\tG-Mean 0.086\n",
      "====================\n",
      "GPT2 smoter\n",
      "torch.Size([1684, 202])\n"
     ]
    },
    {
     "name": "stderr",
     "output_type": "stream",
     "text": [
      "100%|██████████████████████████████████████████████████████████████████████████████████████████████████████████████████████| 310/310 [00:04<00:00, 65.79it/s]\n"
     ]
    },
    {
     "name": "stdout",
     "output_type": "stream",
     "text": [
      " * Overall: RMSE 0.183\tG-Mean 0.080\n",
      " * Many: RMSE 0.125\tG-Mean 0.040\n",
      " * Median: RMSE 0.140\tG-Mean 0.069\n",
      " * Low: RMSE 0.213\tG-Mean 0.102\n",
      "====================\n",
      "GPT2 inverse\n",
      "torch.Size([1684, 202])\n"
     ]
    },
    {
     "name": "stderr",
     "output_type": "stream",
     "text": [
      "100%|██████████████████████████████████████████████████████████████████████████████████████████████████████████████████████| 310/310 [00:04<00:00, 65.39it/s]\n"
     ]
    },
    {
     "name": "stdout",
     "output_type": "stream",
     "text": [
      " * Overall: RMSE 0.192\tG-Mean 0.082\n",
      " * Many: RMSE 0.108\tG-Mean 0.052\n",
      " * Median: RMSE 0.105\tG-Mean 0.057\n",
      " * Low: RMSE 0.239\tG-Mean 0.112\n",
      "====================\n",
      "PFN BO vanilla\n",
      "torch.Size([1684, 202])\n"
     ]
    },
    {
     "name": "stderr",
     "output_type": "stream",
     "text": [
      "100%|██████████████████████████████████████████████████████████████████████████████████████████████████████████████████████| 310/310 [00:04<00:00, 72.44it/s]\n"
     ]
    },
    {
     "name": "stdout",
     "output_type": "stream",
     "text": [
      " * Overall: RMSE 0.219\tG-Mean 0.088\n",
      " * Many: RMSE 0.078\tG-Mean 0.032\n",
      " * Median: RMSE 0.098\tG-Mean 0.047\n",
      " * Low: RMSE 0.282\tG-Mean 0.158\n",
      "====================\n",
      "PFN BO subsample\n",
      "torch.Size([374, 202])\n"
     ]
    },
    {
     "name": "stderr",
     "output_type": "stream",
     "text": [
      "100%|██████████████████████████████████████████████████████████████████████████████████████████████████████████████████████| 310/310 [00:03<00:00, 77.76it/s]\n"
     ]
    },
    {
     "name": "stdout",
     "output_type": "stream",
     "text": [
      " * Overall: RMSE 0.188\tG-Mean 0.087\n",
      " * Many: RMSE 0.135\tG-Mean 0.053\n",
      " * Median: RMSE 0.148\tG-Mean 0.080\n",
      " * Low: RMSE 0.217\tG-Mean 0.102\n",
      "====================\n",
      "PFN BO smoter\n",
      "torch.Size([1684, 202])\n"
     ]
    },
    {
     "name": "stderr",
     "output_type": "stream",
     "text": [
      "100%|██████████████████████████████████████████████████████████████████████████████████████████████████████████████████████| 310/310 [00:03<00:00, 78.05it/s]\n"
     ]
    },
    {
     "name": "stdout",
     "output_type": "stream",
     "text": [
      " * Overall: RMSE 0.195\tG-Mean 0.084\n",
      " * Many: RMSE 0.110\tG-Mean 0.034\n",
      " * Median: RMSE 0.137\tG-Mean 0.066\n",
      " * Low: RMSE 0.234\tG-Mean 0.118\n",
      "====================\n",
      "PFN BO inverse\n",
      "torch.Size([1684, 202])\n"
     ]
    },
    {
     "name": "stderr",
     "output_type": "stream",
     "text": [
      "100%|██████████████████████████████████████████████████████████████████████████████████████████████████████████████████████| 310/310 [00:04<00:00, 76.56it/s]\n"
     ]
    },
    {
     "name": "stdout",
     "output_type": "stream",
     "text": [
      " * Overall: RMSE 0.217\tG-Mean 0.093\n",
      " * Many: RMSE 0.096\tG-Mean 0.044\n",
      " * Median: RMSE 0.090\tG-Mean 0.045\n",
      " * Low: RMSE 0.280\tG-Mean 0.168\n",
      "====================\n",
      "PFN BO all context\n",
      "torch.Size([1684, 202])\n"
     ]
    },
    {
     "name": "stderr",
     "output_type": "stream",
     "text": [
      "100%|██████████████████████████████████████████████████████████████████████████████████████████████████████████████████████| 310/310 [00:52<00:00,  5.95it/s]\n"
     ]
    },
    {
     "name": "stdout",
     "output_type": "stream",
     "text": [
      " * Overall: RMSE 0.280\tG-Mean 0.126\n",
      " * Many: RMSE 0.093\tG-Mean 0.070\n",
      " * Median: RMSE 0.071\tG-Mean 0.039\n",
      " * Low: RMSE 0.369\tG-Mean 0.285\n",
      "====================================================================================================\n",
      "Loading dataset : Airfoil_baisier\n"
     ]
    },
    {
     "data": {
      "image/png": "[encoded data removed]",
      "text/plain": [
       "<Figure size 640x480 with 1 Axes>"
      ]
     },
     "metadata": {},
     "output_type": "display_data"
    },
    {
     "name": "stdout",
     "output_type": "stream",
     "text": [
      "====================\n",
      "Knn\n",
      "Sklearn\n",
      " * Overall: RMSE 0.270\tG-Mean 0.129\n",
      " * Many: RMSE 0.264\tG-Mean 0.128\n",
      " * Median: RMSE 0.560\tG-Mean 0.332\n",
      " * Low: RMSE 1.059\tG-Mean 0.758\n",
      "====================\n",
      "Gradient Boosting\n",
      "Sklearn\n",
      " * Overall: RMSE 0.253\tG-Mean 0.129\n",
      " * Many: RMSE 0.247\tG-Mean 0.128\n",
      " * Median: RMSE 0.542\tG-Mean 0.296\n",
      " * Low: RMSE 1.032\tG-Mean 0.614\n",
      "====================\n",
      "Decision Tree\n",
      "Sklearn\n",
      " * Overall: RMSE 0.338\tG-Mean 0.157\n",
      " * Many: RMSE 0.334\tG-Mean 0.156\n",
      " * Median: RMSE 0.558\tG-Mean 0.243\n",
      " * Low: RMSE 0.971\tG-Mean 0.488\n",
      "====================\n",
      "Neural Network\n",
      "Sklearn\n",
      " * Overall: RMSE 0.117\tG-Mean 0.049\n",
      " * Many: RMSE 0.114\tG-Mean 0.049\n",
      " * Median: RMSE 0.270\tG-Mean 0.095\n",
      " * Low: RMSE 0.559\tG-Mean 0.221\n",
      "====================\n",
      "GPT2 vanilla\n",
      "torch.Size([38802, 192])\n"
     ]
    },
    {
     "name": "stderr",
     "output_type": "stream",
     "text": [
      "100%|████████████████████████████████████████████████████████████████████████████████████████████████████████████████████| 9701/9701 [02:05<00:00, 77.34it/s]\n"
     ]
    },
    {
     "name": "stdout",
     "output_type": "stream",
     "text": [
      " * Overall: RMSE 0.204\tG-Mean 0.099\n",
      " * Many: RMSE 0.201\tG-Mean 0.098\n",
      " * Median: RMSE 0.394\tG-Mean 0.213\n",
      " * Low: RMSE 0.654\tG-Mean 0.416\n",
      "====================\n",
      "GPT2 subsample\n",
      "torch.Size([8384, 192])\n"
     ]
    },
    {
     "name": "stderr",
     "output_type": "stream",
     "text": [
      "100%|████████████████████████████████████████████████████████████████████████████████████████████████████████████████████| 9701/9701 [02:04<00:00, 77.84it/s]\n"
     ]
    },
    {
     "name": "stdout",
     "output_type": "stream",
     "text": [
      " * Overall: RMSE 0.312\tG-Mean 0.150\n",
      " * Many: RMSE 0.311\tG-Mean 0.149\n",
      " * Median: RMSE 0.337\tG-Mean 0.171\n",
      " * Low: RMSE 0.640\tG-Mean 0.412\n",
      "====================\n",
      "GPT2 smoter\n",
      "torch.Size([38801, 192])\n"
     ]
    },
    {
     "name": "stderr",
     "output_type": "stream",
     "text": [
      "100%|████████████████████████████████████████████████████████████████████████████████████████████████████████████████████| 9701/9701 [02:06<00:00, 76.75it/s]\n"
     ]
    },
    {
     "name": "stdout",
     "output_type": "stream",
     "text": [
      " * Overall: RMSE 0.245\tG-Mean 0.115\n",
      " * Many: RMSE 0.243\tG-Mean 0.115\n",
      " * Median: RMSE 0.405\tG-Mean 0.221\n",
      " * Low: RMSE 0.692\tG-Mean 0.422\n",
      "====================\n",
      "GPT2 inverse\n",
      "torch.Size([38802, 192])\n"
     ]
    },
    {
     "name": "stderr",
     "output_type": "stream",
     "text": [
      "100%|████████████████████████████████████████████████████████████████████████████████████████████████████████████████████| 9701/9701 [02:11<00:00, 73.86it/s]\n"
     ]
    },
    {
     "name": "stdout",
     "output_type": "stream",
     "text": [
      " * Overall: RMSE 0.230\tG-Mean 0.110\n",
      " * Many: RMSE 0.230\tG-Mean 0.110\n",
      " * Median: RMSE 0.283\tG-Mean 0.121\n",
      " * Low: RMSE 0.465\tG-Mean 0.145\n",
      "====================\n",
      "PFN BO vanilla\n",
      "torch.Size([38802, 192])\n"
     ]
    },
    {
     "name": "stderr",
     "output_type": "stream",
     "text": [
      "100%|████████████████████████████████████████████████████████████████████████████████████████████████████████████████████| 9701/9701 [01:42<00:00, 94.88it/s]\n"
     ]
    },
    {
     "name": "stdout",
     "output_type": "stream",
     "text": [
      " * Overall: RMSE 0.193\tG-Mean 0.091\n",
      " * Many: RMSE 0.187\tG-Mean 0.090\n",
      " * Median: RMSE 0.474\tG-Mean 0.327\n",
      " * Low: RMSE 0.788\tG-Mean 0.556\n",
      "====================\n",
      "PFN BO subsample\n",
      "torch.Size([8384, 192])\n"
     ]
    },
    {
     "name": "stderr",
     "output_type": "stream",
     "text": [
      "100%|████████████████████████████████████████████████████████████████████████████████████████████████████████████████████| 9701/9701 [01:40<00:00, 96.16it/s]\n"
     ]
    },
    {
     "name": "stdout",
     "output_type": "stream",
     "text": [
      " * Overall: RMSE 0.273\tG-Mean 0.126\n",
      " * Many: RMSE 0.270\tG-Mean 0.125\n",
      " * Median: RMSE 0.435\tG-Mean 0.326\n",
      " * Low: RMSE 0.702\tG-Mean 0.497\n",
      "====================\n",
      "PFN BO smoter\n",
      "torch.Size([38801, 192])\n"
     ]
    },
    {
     "name": "stderr",
     "output_type": "stream",
     "text": [
      "100%|████████████████████████████████████████████████████████████████████████████████████████████████████████████████████| 9701/9701 [01:42<00:00, 94.49it/s]\n"
     ]
    },
    {
     "name": "stdout",
     "output_type": "stream",
     "text": [
      " * Overall: RMSE 0.226\tG-Mean 0.102\n",
      " * Many: RMSE 0.221\tG-Mean 0.101\n",
      " * Median: RMSE 0.469\tG-Mean 0.304\n",
      " * Low: RMSE 0.736\tG-Mean 0.625\n",
      "====================\n",
      "PFN BO inverse\n",
      "torch.Size([38802, 192])\n"
     ]
    },
    {
     "name": "stderr",
     "output_type": "stream",
     "text": [
      "100%|████████████████████████████████████████████████████████████████████████████████████████████████████████████████████| 9701/9701 [01:43<00:00, 93.65it/s]\n"
     ]
    },
    {
     "name": "stdout",
     "output_type": "stream",
     "text": [
      " * Overall: RMSE 0.208\tG-Mean 0.101\n",
      " * Many: RMSE 0.203\tG-Mean 0.100\n",
      " * Median: RMSE 0.484\tG-Mean 0.347\n",
      " * Low: RMSE 0.859\tG-Mean 0.584\n",
      "====================\n",
      "PFN BO all context\n",
      "====================================================================================================\n",
      "Loading dataset : Boston\n"
     ]
    },
    {
     "data": {
      "image/png": "[encoded data removed]",
      "text/plain": [
       "<Figure size 640x480 with 1 Axes>"
      ]
     },
     "metadata": {},
     "output_type": "display_data"
    },
    {
     "name": "stdout",
     "output_type": "stream",
     "text": [
      "====================\n",
      "Knn\n",
      "Sklearn\n",
      " * Overall: RMSE 7.336\tG-Mean 3.305\n",
      " * Many: RMSE 2.508\tG-Mean 1.892\n",
      " * Median: RMSE 4.086\tG-Mean 2.186\n",
      " * Low: RMSE 11.077\tG-Mean 7.195\n",
      "====================\n",
      "Gradient Boosting\n",
      "Sklearn\n",
      " * Overall: RMSE 3.400\tG-Mean 1.484\n",
      " * Many: RMSE 1.155\tG-Mean 0.742\n",
      " * Median: RMSE 2.834\tG-Mean 0.985\n",
      " * Low: RMSE 4.499\tG-Mean 3.384\n",
      "====================\n",
      "Decision Tree\n",
      "Sklearn\n",
      " * Overall: RMSE 4.493\tG-Mean 1.144\n",
      " * Many: RMSE 3.386\tG-Mean 1.427\n",
      " * Median: RMSE 3.253\tG-Mean 1.464\n",
      " * Low: RMSE 6.056\tG-Mean 0.750\n",
      "====================\n",
      "Neural Network\n",
      "Sklearn\n",
      " * Overall: RMSE 4.368\tG-Mean 1.921\n",
      " * Many: RMSE 2.879\tG-Mean 1.438\n",
      " * Median: RMSE 3.168\tG-Mean 1.502\n",
      " * Low: RMSE 5.964\tG-Mean 3.005\n",
      "====================\n",
      "GPT2 vanilla\n",
      "torch.Size([462, 26])\n"
     ]
    },
    {
     "name": "stderr",
     "output_type": "stream",
     "text": [
      "100%|████████████████████████████████████████████████████████████████████████████████████████████████████████████████████████| 44/44 [00:01<00:00, 32.86it/s]\n"
     ]
    },
    {
     "name": "stdout",
     "output_type": "stream",
     "text": [
      " * Overall: RMSE 4.646\tG-Mean 1.836\n",
      " * Many: RMSE 2.152\tG-Mean 0.594\n",
      " * Median: RMSE 3.065\tG-Mean 1.255\n",
      " * Low: RMSE 6.687\tG-Mean 4.730\n",
      "====================\n",
      "GPT2 subsample\n",
      "torch.Size([130, 26])\n"
     ]
    },
    {
     "name": "stderr",
     "output_type": "stream",
     "text": [
      "100%|████████████████████████████████████████████████████████████████████████████████████████████████████████████████████████| 44/44 [00:01<00:00, 31.34it/s]\n"
     ]
    },
    {
     "name": "stdout",
     "output_type": "stream",
     "text": [
      " * Overall: RMSE 4.750\tG-Mean 1.949\n",
      " * Many: RMSE 4.031\tG-Mean 3.143\n",
      " * Median: RMSE 4.488\tG-Mean 1.592\n",
      " * Low: RMSE 5.316\tG-Mean 2.152\n",
      "====================\n",
      "GPT2 smoter\n",
      "torch.Size([461, 26])\n"
     ]
    },
    {
     "name": "stderr",
     "output_type": "stream",
     "text": [
      "100%|████████████████████████████████████████████████████████████████████████████████████████████████████████████████████████| 44/44 [00:01<00:00, 32.32it/s]\n"
     ]
    },
    {
     "name": "stdout",
     "output_type": "stream",
     "text": [
      " * Overall: RMSE 4.540\tG-Mean 1.920\n",
      " * Many: RMSE 2.974\tG-Mean 0.911\n",
      " * Median: RMSE 3.396\tG-Mean 1.485\n",
      " * Low: RMSE 6.125\tG-Mean 3.614\n",
      "====================\n",
      "GPT2 inverse\n",
      "torch.Size([462, 26])\n"
     ]
    },
    {
     "name": "stderr",
     "output_type": "stream",
     "text": [
      "100%|████████████████████████████████████████████████████████████████████████████████████████████████████████████████████████| 44/44 [00:01<00:00, 31.71it/s]\n"
     ]
    },
    {
     "name": "stdout",
     "output_type": "stream",
     "text": [
      " * Overall: RMSE 4.481\tG-Mean 1.830\n",
      " * Many: RMSE 4.147\tG-Mean 1.390\n",
      " * Median: RMSE 3.167\tG-Mean 1.180\n",
      " * Low: RMSE 5.914\tG-Mean 3.709\n",
      "====================\n",
      "PFN BO vanilla\n",
      "torch.Size([462, 26])\n"
     ]
    },
    {
     "name": "stderr",
     "output_type": "stream",
     "text": [
      "100%|████████████████████████████████████████████████████████████████████████████████████████████████████████████████████████| 44/44 [00:01<00:00, 32.62it/s]\n"
     ]
    },
    {
     "name": "stdout",
     "output_type": "stream",
     "text": [
      " * Overall: RMSE 4.108\tG-Mean 1.408\n",
      " * Many: RMSE 3.453\tG-Mean 0.707\n",
      " * Median: RMSE 2.785\tG-Mean 0.887\n",
      " * Low: RMSE 5.593\tG-Mean 3.443\n",
      "====================\n",
      "PFN BO subsample\n",
      "torch.Size([130, 26])\n"
     ]
    },
    {
     "name": "stderr",
     "output_type": "stream",
     "text": [
      "100%|████████████████████████████████████████████████████████████████████████████████████████████████████████████████████████| 44/44 [00:01<00:00, 34.17it/s]\n"
     ]
    },
    {
     "name": "stdout",
     "output_type": "stream",
     "text": [
      " * Overall: RMSE 3.867\tG-Mean 2.190\n",
      " * Many: RMSE 2.672\tG-Mean 2.120\n",
      " * Median: RMSE 3.137\tG-Mean 1.950\n",
      " * Low: RMSE 4.990\tG-Mean 2.600\n",
      "====================\n",
      "PFN BO smoter\n",
      "torch.Size([461, 26])\n"
     ]
    },
    {
     "name": "stderr",
     "output_type": "stream",
     "text": [
      "100%|████████████████████████████████████████████████████████████████████████████████████████████████████████████████████████| 44/44 [00:01<00:00, 34.07it/s]\n"
     ]
    },
    {
     "name": "stdout",
     "output_type": "stream",
     "text": [
      " * Overall: RMSE 5.118\tG-Mean 1.613\n",
      " * Many: RMSE 2.769\tG-Mean 1.338\n",
      " * Median: RMSE 2.684\tG-Mean 0.822\n",
      " * Low: RMSE 7.698\tG-Mean 4.370\n",
      "====================\n",
      "PFN BO inverse\n",
      "torch.Size([462, 26])\n"
     ]
    },
    {
     "name": "stderr",
     "output_type": "stream",
     "text": [
      "100%|████████████████████████████████████████████████████████████████████████████████████████████████████████████████████████| 44/44 [00:01<00:00, 35.05it/s]\n"
     ]
    },
    {
     "name": "stdout",
     "output_type": "stream",
     "text": [
      " * Overall: RMSE 4.555\tG-Mean 1.709\n",
      " * Many: RMSE 2.063\tG-Mean 0.748\n",
      " * Median: RMSE 2.785\tG-Mean 1.166\n",
      " * Low: RMSE 6.693\tG-Mean 3.942\n",
      "====================\n",
      "PFN BO all context\n",
      "torch.Size([462, 26])\n"
     ]
    },
    {
     "name": "stderr",
     "output_type": "stream",
     "text": [
      "100%|████████████████████████████████████████████████████████████████████████████████████████████████████████████████████████| 44/44 [00:01<00:00, 31.83it/s]\n"
     ]
    },
    {
     "name": "stdout",
     "output_type": "stream",
     "text": [
      " * Overall: RMSE 5.254\tG-Mean 2.402\n",
      " * Many: RMSE 1.804\tG-Mean 1.283\n",
      " * Median: RMSE 2.767\tG-Mean 1.556\n",
      " * Low: RMSE 8.009\tG-Mean 5.521\n",
      "====================================================================================================\n",
      "Loading dataset : Concrete\n"
     ]
    },
    {
     "data": {
      "image/png": "[encoded data removed]",
      "text/plain": [
       "<Figure size 640x480 with 1 Axes>"
      ]
     },
     "metadata": {},
     "output_type": "display_data"
    },
    {
     "name": "stdout",
     "output_type": "stream",
     "text": [
      "====================\n",
      "Knn\n",
      "Sklearn\n",
      " * Overall: RMSE 11.995\tG-Mean 6.599\n",
      " * Many: RMSE 6.919\tG-Mean 4.138\n",
      " * Median: RMSE 9.257\tG-Mean 5.427\n",
      " * Low: RMSE 19.125\tG-Mean 16.504\n",
      "====================\n",
      "Gradient Boosting\n",
      "Sklearn\n",
      " * Overall: RMSE 6.691\tG-Mean 2.456\n",
      " * Many: RMSE 5.220\tG-Mean 1.532\n",
      " * Median: RMSE 4.895\tG-Mean 2.351\n",
      " * Low: RMSE 10.207\tG-Mean 4.670\n",
      "====================\n",
      "Decision Tree\n",
      "Sklearn\n",
      " * Overall: RMSE 7.225\tG-Mean 0.207\n",
      " * Many: RMSE 7.708\tG-Mean 0.917\n",
      " * Median: RMSE 5.679\tG-Mean 0.283\n",
      " * Low: RMSE 8.978\tG-Mean 0.020\n",
      "====================\n",
      "Neural Network\n",
      "Sklearn\n",
      " * Overall: RMSE 6.665\tG-Mean 2.859\n",
      " * Many: RMSE 5.087\tG-Mean 2.228\n",
      " * Median: RMSE 5.926\tG-Mean 2.652\n",
      " * Low: RMSE 9.149\tG-Mean 4.415\n",
      "====================\n",
      "GPT2 vanilla\n",
      "torch.Size([836, 16])\n"
     ]
    },
    {
     "name": "stderr",
     "output_type": "stream",
     "text": [
      "100%|██████████████████████████████████████████████████████████████████████████████████████████████████████████████████████| 194/194 [00:03<00:00, 61.13it/s]\n"
     ]
    },
    {
     "name": "stdout",
     "output_type": "stream",
     "text": [
      " * Overall: RMSE 6.095\tG-Mean 2.024\n",
      " * Many: RMSE 5.923\tG-Mean 1.707\n",
      " * Median: RMSE 4.070\tG-Mean 1.944\n",
      " * Low: RMSE 8.819\tG-Mean 2.672\n",
      "====================\n",
      "GPT2 subsample\n",
      "torch.Size([182, 16])\n"
     ]
    },
    {
     "name": "stderr",
     "output_type": "stream",
     "text": [
      "100%|██████████████████████████████████████████████████████████████████████████████████████████████████████████████████████| 194/194 [00:03<00:00, 61.29it/s]\n"
     ]
    },
    {
     "name": "stdout",
     "output_type": "stream",
     "text": [
      " * Overall: RMSE 8.446\tG-Mean 3.576\n",
      " * Many: RMSE 10.283\tG-Mean 3.876\n",
      " * Median: RMSE 7.381\tG-Mean 3.020\n",
      " * Low: RMSE 7.855\tG-Mean 4.445\n",
      "====================\n",
      "GPT2 smoter\n",
      "torch.Size([835, 16])\n"
     ]
    },
    {
     "name": "stderr",
     "output_type": "stream",
     "text": [
      "100%|██████████████████████████████████████████████████████████████████████████████████████████████████████████████████████| 194/194 [00:03<00:00, 61.29it/s]\n"
     ]
    },
    {
     "name": "stdout",
     "output_type": "stream",
     "text": [
      " * Overall: RMSE 5.968\tG-Mean 2.270\n",
      " * Many: RMSE 5.424\tG-Mean 1.757\n",
      " * Median: RMSE 4.938\tG-Mean 2.024\n",
      " * Low: RMSE 7.989\tG-Mean 3.806\n",
      "====================\n",
      "GPT2 inverse\n",
      "torch.Size([836, 16])\n"
     ]
    },
    {
     "name": "stderr",
     "output_type": "stream",
     "text": [
      "100%|██████████████████████████████████████████████████████████████████████████████████████████████████████████████████████| 194/194 [00:03<00:00, 60.28it/s]\n"
     ]
    },
    {
     "name": "stdout",
     "output_type": "stream",
     "text": [
      " * Overall: RMSE 5.746\tG-Mean 2.285\n",
      " * Many: RMSE 4.681\tG-Mean 2.215\n",
      " * Median: RMSE 4.692\tG-Mean 2.022\n",
      " * Low: RMSE 8.160\tG-Mean 2.972\n",
      "====================\n",
      "PFN BO vanilla\n",
      "torch.Size([836, 16])\n"
     ]
    },
    {
     "name": "stderr",
     "output_type": "stream",
     "text": [
      "100%|██████████████████████████████████████████████████████████████████████████████████████████████████████████████████████| 194/194 [00:02<00:00, 70.54it/s]\n"
     ]
    },
    {
     "name": "stdout",
     "output_type": "stream",
     "text": [
      " * Overall: RMSE 6.799\tG-Mean 2.208\n",
      " * Many: RMSE 4.778\tG-Mean 1.360\n",
      " * Median: RMSE 4.590\tG-Mean 1.994\n",
      " * Low: RMSE 10.985\tG-Mean 4.748\n",
      "====================\n",
      "PFN BO subsample\n",
      "torch.Size([182, 16])\n"
     ]
    },
    {
     "name": "stderr",
     "output_type": "stream",
     "text": [
      "100%|██████████████████████████████████████████████████████████████████████████████████████████████████████████████████████| 194/194 [00:03<00:00, 60.76it/s]\n"
     ]
    },
    {
     "name": "stdout",
     "output_type": "stream",
     "text": [
      " * Overall: RMSE 8.361\tG-Mean 3.520\n",
      " * Many: RMSE 10.644\tG-Mean 4.023\n",
      " * Median: RMSE 6.232\tG-Mean 2.981\n",
      " * Low: RMSE 8.716\tG-Mean 4.086\n",
      "====================\n",
      "PFN BO smoter\n",
      "torch.Size([835, 16])\n"
     ]
    },
    {
     "name": "stderr",
     "output_type": "stream",
     "text": [
      "100%|██████████████████████████████████████████████████████████████████████████████████████████████████████████████████████| 194/194 [00:03<00:00, 62.23it/s]\n"
     ]
    },
    {
     "name": "stdout",
     "output_type": "stream",
     "text": [
      " * Overall: RMSE 6.548\tG-Mean 2.195\n",
      " * Many: RMSE 5.434\tG-Mean 1.833\n",
      " * Median: RMSE 5.298\tG-Mean 2.078\n",
      " * Low: RMSE 9.285\tG-Mean 3.013\n",
      "====================\n",
      "PFN BO inverse\n",
      "torch.Size([836, 16])\n"
     ]
    },
    {
     "name": "stderr",
     "output_type": "stream",
     "text": [
      "100%|██████████████████████████████████████████████████████████████████████████████████████████████████████████████████████| 194/194 [00:02<00:00, 69.27it/s]\n"
     ]
    },
    {
     "name": "stdout",
     "output_type": "stream",
     "text": [
      " * Overall: RMSE 7.192\tG-Mean 2.215\n",
      " * Many: RMSE 5.174\tG-Mean 1.842\n",
      " * Median: RMSE 4.302\tG-Mean 1.808\n",
      " * Low: RMSE 11.956\tG-Mean 4.019\n",
      "====================\n",
      "PFN BO all context\n",
      "torch.Size([836, 16])\n"
     ]
    },
    {
     "name": "stderr",
     "output_type": "stream",
     "text": [
      "100%|██████████████████████████████████████████████████████████████████████████████████████████████████████████████████████| 194/194 [00:02<00:00, 69.17it/s]\n"
     ]
    },
    {
     "name": "stdout",
     "output_type": "stream",
     "text": [
      " * Overall: RMSE 9.609\tG-Mean 4.532\n",
      " * Many: RMSE 7.659\tG-Mean 2.948\n",
      " * Median: RMSE 8.561\tG-Mean 4.484\n",
      " * Low: RMSE 12.946\tG-Mean 7.700\n",
      "====================================================================================================\n",
      "Loading dataset : Abalone\n"
     ]
    },
    {
     "data": {
      "image/png": "[encoded data removed]",
      "text/plain": [
       "<Figure size 640x480 with 1 Axes>"
      ]
     },
     "metadata": {},
     "output_type": "display_data"
    },
    {
     "name": "stdout",
     "output_type": "stream",
     "text": [
      "====================\n",
      "Knn\n",
      "Sklearn\n",
      " * Overall: RMSE 4.371\tG-Mean 1.559\n",
      " * Many: RMSE 1.648\tG-Mean 0.557\n",
      " * Median: RMSE 3.402\tG-Mean 2.082\n",
      " * Low: RMSE 7.512\tG-Mean 6.161\n",
      "====================\n",
      "Gradient Boosting\n",
      "Sklearn\n",
      " * Overall: RMSE 4.324\tG-Mean 1.745\n",
      " * Many: RMSE 1.493\tG-Mean 0.724\n",
      " * Median: RMSE 3.477\tG-Mean 2.070\n",
      " * Low: RMSE 7.415\tG-Mean 6.226\n",
      "====================\n",
      "Decision Tree\n",
      "Sklearn\n",
      " * Overall: RMSE 4.370\tG-Mean 0.081\n",
      " * Many: RMSE 2.242\tG-Mean 0.007\n",
      " * Median: RMSE 3.769\tG-Mean 0.096\n",
      " * Low: RMSE 7.010\tG-Mean 3.654\n",
      "====================\n",
      "Neural Network\n",
      "Sklearn\n",
      " * Overall: RMSE 4.119\tG-Mean 1.702\n",
      " * Many: RMSE 1.505\tG-Mean 0.773\n",
      " * Median: RMSE 3.240\tG-Mean 1.870\n",
      " * Low: RMSE 7.077\tG-Mean 5.747\n",
      "====================\n",
      "GPT2 vanilla\n",
      "torch.Size([3634, 14])\n"
     ]
    },
    {
     "name": "stderr",
     "output_type": "stream",
     "text": [
      "100%|██████████████████████████████████████████████████████████████████████████████████████████████████████████████████████| 543/543 [00:07<00:00, 72.61it/s]\n"
     ]
    },
    {
     "name": "stdout",
     "output_type": "stream",
     "text": [
      " * Overall: RMSE 4.362\tG-Mean 1.677\n",
      " * Many: RMSE 1.911\tG-Mean 0.804\n",
      " * Median: RMSE 3.410\tG-Mean 1.699\n",
      " * Low: RMSE 7.381\tG-Mean 5.737\n",
      "====================\n",
      "GPT2 subsample\n",
      "torch.Size([736, 14])\n"
     ]
    },
    {
     "name": "stderr",
     "output_type": "stream",
     "text": [
      "100%|██████████████████████████████████████████████████████████████████████████████████████████████████████████████████████| 543/543 [00:07<00:00, 73.22it/s]\n"
     ]
    },
    {
     "name": "stdout",
     "output_type": "stream",
     "text": [
      " * Overall: RMSE 3.669\tG-Mean 1.591\n",
      " * Many: RMSE 2.433\tG-Mean 1.239\n",
      " * Median: RMSE 2.432\tG-Mean 0.970\n",
      " * Low: RMSE 5.986\tG-Mean 4.548\n",
      "====================\n",
      "GPT2 smoter\n",
      "torch.Size([3633, 14])\n"
     ]
    },
    {
     "name": "stderr",
     "output_type": "stream",
     "text": [
      "100%|██████████████████████████████████████████████████████████████████████████████████████████████████████████████████████| 543/543 [00:07<00:00, 73.69it/s]\n"
     ]
    },
    {
     "name": "stdout",
     "output_type": "stream",
     "text": [
      " * Overall: RMSE 3.814\tG-Mean 1.519\n",
      " * Many: RMSE 2.393\tG-Mean 1.080\n",
      " * Median: RMSE 2.571\tG-Mean 1.014\n",
      " * Low: RMSE 6.290\tG-Mean 4.519\n",
      "====================\n",
      "GPT2 inverse\n",
      "torch.Size([3634, 14])\n"
     ]
    },
    {
     "name": "stderr",
     "output_type": "stream",
     "text": [
      "100%|██████████████████████████████████████████████████████████████████████████████████████████████████████████████████████| 543/543 [00:07<00:00, 70.21it/s]\n"
     ]
    },
    {
     "name": "stdout",
     "output_type": "stream",
     "text": [
      " * Overall: RMSE 4.085\tG-Mean 1.785\n",
      " * Many: RMSE 3.081\tG-Mean 1.470\n",
      " * Median: RMSE 2.571\tG-Mean 1.233\n",
      " * Low: RMSE 6.455\tG-Mean 3.972\n",
      "====================\n",
      "PFN BO vanilla\n",
      "torch.Size([3634, 14])\n"
     ]
    },
    {
     "name": "stderr",
     "output_type": "stream",
     "text": [
      "100%|██████████████████████████████████████████████████████████████████████████████████████████████████████████████████████| 543/543 [00:06<00:00, 80.84it/s]\n"
     ]
    },
    {
     "name": "stdout",
     "output_type": "stream",
     "text": [
      " * Overall: RMSE 4.389\tG-Mean 1.958\n",
      " * Many: RMSE 2.027\tG-Mean 0.969\n",
      " * Median: RMSE 3.364\tG-Mean 2.090\n",
      " * Low: RMSE 7.417\tG-Mean 5.933\n",
      "====================\n",
      "PFN BO subsample\n",
      "torch.Size([736, 14])\n"
     ]
    },
    {
     "name": "stderr",
     "output_type": "stream",
     "text": [
      "100%|██████████████████████████████████████████████████████████████████████████████████████████████████████████████████████| 543/543 [00:07<00:00, 75.09it/s]\n"
     ]
    },
    {
     "name": "stdout",
     "output_type": "stream",
     "text": [
      " * Overall: RMSE 3.787\tG-Mean 1.678\n",
      " * Many: RMSE 2.244\tG-Mean 1.075\n",
      " * Median: RMSE 2.577\tG-Mean 1.308\n",
      " * Low: RMSE 6.314\tG-Mean 4.894\n",
      "====================\n",
      "PFN BO smoter\n",
      "torch.Size([3633, 14])\n"
     ]
    },
    {
     "name": "stderr",
     "output_type": "stream",
     "text": [
      "100%|██████████████████████████████████████████████████████████████████████████████████████████████████████████████████████| 543/543 [00:06<00:00, 84.25it/s]\n"
     ]
    },
    {
     "name": "stdout",
     "output_type": "stream",
     "text": [
      " * Overall: RMSE 4.023\tG-Mean 1.733\n",
      " * Many: RMSE 2.179\tG-Mean 1.077\n",
      " * Median: RMSE 2.875\tG-Mean 1.391\n",
      " * Low: RMSE 6.755\tG-Mean 5.126\n",
      "====================\n",
      "PFN BO inverse\n",
      "torch.Size([3634, 14])\n"
     ]
    },
    {
     "name": "stderr",
     "output_type": "stream",
     "text": [
      "100%|██████████████████████████████████████████████████████████████████████████████████████████████████████████████████████| 543/543 [00:06<00:00, 84.51it/s]\n"
     ]
    },
    {
     "name": "stdout",
     "output_type": "stream",
     "text": [
      " * Overall: RMSE 4.534\tG-Mean 2.114\n",
      " * Many: RMSE 1.908\tG-Mean 1.004\n",
      " * Median: RMSE 3.562\tG-Mean 2.347\n",
      " * Low: RMSE 7.693\tG-Mean 6.533\n",
      "====================\n",
      "PFN BO all context\n",
      "torch.Size([3634, 14])\n"
     ]
    },
    {
     "name": "stderr",
     "output_type": "stream",
     "text": [
      "100%|██████████████████████████████████████████████████████████████████████████████████████████████████████████████████████| 543/543 [00:27<00:00, 19.80it/s]\n"
     ]
    },
    {
     "name": "stdout",
     "output_type": "stream",
     "text": [
      " * Overall: RMSE 4.881\tG-Mean 2.067\n",
      " * Many: RMSE 1.633\tG-Mean 0.815\n",
      " * Median: RMSE 4.048\tG-Mean 2.766\n",
      " * Low: RMSE 8.313\tG-Mean 6.904\n",
      "====================================================================================================\n",
      "Loading dataset : Kin8nm\n"
     ]
    },
    {
     "data": {
      "image/png": "[encoded data removed]",
      "text/plain": [
       "<Figure size 640x480 with 1 Axes>"
      ]
     },
     "metadata": {},
     "output_type": "display_data"
    },
    {
     "name": "stdout",
     "output_type": "stream",
     "text": [
      "====================\n",
      "Knn\n",
      "Sklearn\n",
      " * Overall: RMSE 0.173\tG-Mean 0.099\n",
      " * Many: RMSE 0.113\tG-Mean 0.062\n",
      " * Median: RMSE 0.192\tG-Mean 0.151\n",
      " * Low: RMSE 0.283\tG-Mean 0.259\n",
      "====================\n",
      "Gradient Boosting\n",
      "Sklearn\n",
      " * Overall: RMSE 0.236\tG-Mean 0.140\n",
      " * Many: RMSE 0.152\tG-Mean 0.086\n",
      " * Median: RMSE 0.273\tG-Mean 0.228\n",
      " * Low: RMSE 0.375\tG-Mean 0.351\n",
      "====================\n",
      "Decision Tree\n",
      "Sklearn\n",
      " * Overall: RMSE 0.244\tG-Mean 0.120\n",
      " * Many: RMSE 0.204\tG-Mean 0.101\n",
      " * Median: RMSE 0.271\tG-Mean 0.128\n",
      " * Low: RMSE 0.315\tG-Mean 0.205\n",
      "====================\n",
      "Neural Network\n",
      "Sklearn\n",
      " * Overall: RMSE 0.093\tG-Mean 0.048\n",
      " * Many: RMSE 0.072\tG-Mean 0.039\n",
      " * Median: RMSE 0.095\tG-Mean 0.055\n",
      " * Low: RMSE 0.141\tG-Mean 0.079\n",
      "====================\n",
      "GPT2 vanilla\n",
      "torch.Size([6766, 16])\n"
     ]
    },
    {
     "name": "stderr",
     "output_type": "stream",
     "text": [
      "100%|████████████████████████████████████████████████████████████████████████████████████████████████████████████████████| 1426/1426 [00:18<00:00, 78.79it/s]\n"
     ]
    },
    {
     "name": "stdout",
     "output_type": "stream",
     "text": [
      " * Overall: RMSE 0.148\tG-Mean 0.075\n",
      " * Many: RMSE 0.107\tG-Mean 0.055\n",
      " * Median: RMSE 0.161\tG-Mean 0.095\n",
      " * Low: RMSE 0.228\tG-Mean 0.153\n",
      "====================\n",
      "GPT2 subsample\n",
      "torch.Size([2160, 16])\n"
     ]
    },
    {
     "name": "stderr",
     "output_type": "stream",
     "text": [
      "100%|████████████████████████████████████████████████████████████████████████████████████████████████████████████████████| 1426/1426 [00:19<00:00, 73.07it/s]\n"
     ]
    },
    {
     "name": "stdout",
     "output_type": "stream",
     "text": [
      " * Overall: RMSE 0.138\tG-Mean 0.069\n",
      " * Many: RMSE 0.124\tG-Mean 0.063\n",
      " * Median: RMSE 0.136\tG-Mean 0.067\n",
      " * Low: RMSE 0.185\tG-Mean 0.105\n",
      "====================\n",
      "GPT2 smoter\n",
      "torch.Size([6765, 16])\n"
     ]
    },
    {
     "name": "stderr",
     "output_type": "stream",
     "text": [
      "100%|████████████████████████████████████████████████████████████████████████████████████████████████████████████████████| 1426/1426 [00:18<00:00, 78.30it/s]\n"
     ]
    },
    {
     "name": "stdout",
     "output_type": "stream",
     "text": [
      " * Overall: RMSE 0.138\tG-Mean 0.069\n",
      " * Many: RMSE 0.118\tG-Mean 0.059\n",
      " * Median: RMSE 0.139\tG-Mean 0.072\n",
      " * Low: RMSE 0.192\tG-Mean 0.119\n",
      "====================\n",
      "GPT2 inverse\n",
      "torch.Size([6766, 16])\n"
     ]
    },
    {
     "name": "stderr",
     "output_type": "stream",
     "text": [
      "100%|████████████████████████████████████████████████████████████████████████████████████████████████████████████████████| 1426/1426 [00:18<00:00, 76.80it/s]\n"
     ]
    },
    {
     "name": "stdout",
     "output_type": "stream",
     "text": [
      " * Overall: RMSE 0.135\tG-Mean 0.069\n",
      " * Many: RMSE 0.106\tG-Mean 0.055\n",
      " * Median: RMSE 0.138\tG-Mean 0.079\n",
      " * Low: RMSE 0.204\tG-Mean 0.129\n",
      "====================\n",
      "PFN BO vanilla\n",
      "torch.Size([6766, 16])\n"
     ]
    },
    {
     "name": "stderr",
     "output_type": "stream",
     "text": [
      "100%|████████████████████████████████████████████████████████████████████████████████████████████████████████████████████| 1426/1426 [00:15<00:00, 91.26it/s]\n"
     ]
    },
    {
     "name": "stdout",
     "output_type": "stream",
     "text": [
      " * Overall: RMSE 0.188\tG-Mean 0.100\n",
      " * Many: RMSE 0.134\tG-Mean 0.069\n",
      " * Median: RMSE 0.199\tG-Mean 0.134\n",
      " * Low: RMSE 0.300\tG-Mean 0.229\n",
      "====================\n",
      "PFN BO subsample\n",
      "torch.Size([2160, 16])\n"
     ]
    },
    {
     "name": "stderr",
     "output_type": "stream",
     "text": [
      "100%|████████████████████████████████████████████████████████████████████████████████████████████████████████████████████| 1426/1426 [00:16<00:00, 88.88it/s]\n"
     ]
    },
    {
     "name": "stdout",
     "output_type": "stream",
     "text": [
      " * Overall: RMSE 0.186\tG-Mean 0.094\n",
      " * Many: RMSE 0.161\tG-Mean 0.078\n",
      " * Median: RMSE 0.174\tG-Mean 0.089\n",
      " * Low: RMSE 0.270\tG-Mean 0.194\n",
      "====================\n",
      "PFN BO smoter\n",
      "torch.Size([6765, 16])\n"
     ]
    },
    {
     "name": "stderr",
     "output_type": "stream",
     "text": [
      "100%|████████████████████████████████████████████████████████████████████████████████████████████████████████████████████| 1426/1426 [00:15<00:00, 89.45it/s]\n"
     ]
    },
    {
     "name": "stdout",
     "output_type": "stream",
     "text": [
      " * Overall: RMSE 0.181\tG-Mean 0.090\n",
      " * Many: RMSE 0.142\tG-Mean 0.069\n",
      " * Median: RMSE 0.180\tG-Mean 0.097\n",
      " * Low: RMSE 0.280\tG-Mean 0.201\n",
      "====================\n",
      "PFN BO inverse\n",
      "torch.Size([6766, 16])\n"
     ]
    },
    {
     "name": "stderr",
     "output_type": "stream",
     "text": [
      "100%|████████████████████████████████████████████████████████████████████████████████████████████████████████████████████| 1426/1426 [00:15<00:00, 89.25it/s]\n"
     ]
    },
    {
     "name": "stdout",
     "output_type": "stream",
     "text": [
      " * Overall: RMSE 0.179\tG-Mean 0.096\n",
      " * Many: RMSE 0.133\tG-Mean 0.067\n",
      " * Median: RMSE 0.184\tG-Mean 0.124\n",
      " * Low: RMSE 0.284\tG-Mean 0.230\n",
      "====================\n",
      "PFN BO all context\n",
      "torch.Size([6766, 16])\n"
     ]
    },
    {
     "name": "stderr",
     "output_type": "stream",
     "text": [
      "100%|████████████████████████████████████████████████████████████████████████████████████████████████████████████████████| 1426/1426 [03:32<00:00,  6.72it/s]\n"
     ]
    },
    {
     "name": "stdout",
     "output_type": "stream",
     "text": [
      " * Overall: RMSE 0.243\tG-Mean 0.136\n",
      " * Many: RMSE 0.152\tG-Mean 0.079\n",
      " * Median: RMSE 0.280\tG-Mean 0.241\n",
      " * Low: RMSE 0.393\tG-Mean 0.373\n",
      "====================================================================================================\n",
      "Loading dataset : Communities\n"
     ]
    },
    {
     "data": {
      "image/png": "[encoded data removed]",
      "text/plain": [
       "<Figure size 640x480 with 1 Axes>"
      ]
     },
     "metadata": {},
     "output_type": "display_data"
    },
    {
     "name": "stdout",
     "output_type": "stream",
     "text": [
      "====================\n",
      "Knn\n",
      "Sklearn\n",
      " * Overall: RMSE 0.213\tG-Mean 0.079\n",
      " * Many: RMSE 0.064\tG-Mean 0.027\n",
      " * Median: RMSE 0.121\tG-Mean 0.055\n",
      " * Low: RMSE 0.271\tG-Mean 0.132\n",
      "====================\n",
      "Gradient Boosting\n",
      "Sklearn\n",
      " * Overall: RMSE 0.213\tG-Mean 0.080\n",
      " * Many: RMSE 0.049\tG-Mean 0.020\n",
      " * Median: RMSE 0.108\tG-Mean 0.053\n",
      " * Low: RMSE 0.274\tG-Mean 0.146\n",
      "====================\n",
      "Decision Tree\n",
      "Sklearn\n",
      " * Overall: RMSE 0.275\tG-Mean 0.103\n",
      " * Many: RMSE 0.081\tG-Mean 0.015\n",
      " * Median: RMSE 0.180\tG-Mean 0.073\n",
      " * Low: RMSE 0.344\tG-Mean 0.215\n",
      "====================\n",
      "Neural Network\n",
      "Sklearn\n",
      " * Overall: RMSE 0.219\tG-Mean 0.094\n",
      " * Many: RMSE 0.076\tG-Mean 0.043\n",
      " * Median: RMSE 0.122\tG-Mean 0.058\n",
      " * Low: RMSE 0.278\tG-Mean 0.152\n",
      "====================\n",
      "GPT2 vanilla\n",
      "torch.Size([1684, 202])\n"
     ]
    },
    {
     "name": "stderr",
     "output_type": "stream",
     "text": [
      "100%|██████████████████████████████████████████████████████████████████████████████████████████████████████████████████████| 310/310 [00:04<00:00, 65.23it/s]\n"
     ]
    },
    {
     "name": "stdout",
     "output_type": "stream",
     "text": [
      " * Overall: RMSE 0.204\tG-Mean 0.080\n",
      " * Many: RMSE 0.065\tG-Mean 0.027\n",
      " * Median: RMSE 0.104\tG-Mean 0.053\n",
      " * Low: RMSE 0.262\tG-Mean 0.134\n",
      "====================\n",
      "GPT2 subsample\n",
      "torch.Size([374, 202])\n"
     ]
    },
    {
     "name": "stderr",
     "output_type": "stream",
     "text": [
      "100%|██████████████████████████████████████████████████████████████████████████████████████████████████████████████████████| 310/310 [00:04<00:00, 65.70it/s]\n"
     ]
    },
    {
     "name": "stdout",
     "output_type": "stream",
     "text": [
      " * Overall: RMSE 0.183\tG-Mean 0.085\n",
      " * Many: RMSE 0.112\tG-Mean 0.047\n",
      " * Median: RMSE 0.169\tG-Mean 0.098\n",
      " * Low: RMSE 0.205\tG-Mean 0.092\n",
      "====================\n",
      "GPT2 smoter\n",
      "torch.Size([1684, 202])\n"
     ]
    },
    {
     "name": "stderr",
     "output_type": "stream",
     "text": [
      "100%|██████████████████████████████████████████████████████████████████████████████████████████████████████████████████████| 310/310 [00:04<00:00, 63.11it/s]\n"
     ]
    },
    {
     "name": "stdout",
     "output_type": "stream",
     "text": [
      " * Overall: RMSE 0.182\tG-Mean 0.080\n",
      " * Many: RMSE 0.098\tG-Mean 0.030\n",
      " * Median: RMSE 0.138\tG-Mean 0.072\n",
      " * Low: RMSE 0.217\tG-Mean 0.112\n",
      "====================\n",
      "GPT2 inverse\n",
      "torch.Size([1684, 202])\n"
     ]
    },
    {
     "name": "stderr",
     "output_type": "stream",
     "text": [
      "100%|██████████████████████████████████████████████████████████████████████████████████████████████████████████████████████| 310/310 [00:04<00:00, 65.10it/s]\n"
     ]
    },
    {
     "name": "stdout",
     "output_type": "stream",
     "text": [
      " * Overall: RMSE 0.189\tG-Mean 0.078\n",
      " * Many: RMSE 0.102\tG-Mean 0.048\n",
      " * Median: RMSE 0.093\tG-Mean 0.047\n",
      " * Low: RMSE 0.239\tG-Mean 0.115\n",
      "====================\n",
      "PFN BO vanilla\n",
      "torch.Size([1684, 202])\n"
     ]
    },
    {
     "name": "stderr",
     "output_type": "stream",
     "text": [
      "100%|██████████████████████████████████████████████████████████████████████████████████████████████████████████████████████| 310/310 [00:04<00:00, 76.67it/s]\n"
     ]
    },
    {
     "name": "stdout",
     "output_type": "stream",
     "text": [
      " * Overall: RMSE 0.218\tG-Mean 0.082\n",
      " * Many: RMSE 0.058\tG-Mean 0.027\n",
      " * Median: RMSE 0.097\tG-Mean 0.049\n",
      " * Low: RMSE 0.284\tG-Mean 0.147\n",
      "====================\n",
      "PFN BO subsample\n",
      "torch.Size([374, 202])\n"
     ]
    },
    {
     "name": "stderr",
     "output_type": "stream",
     "text": [
      "100%|██████████████████████████████████████████████████████████████████████████████████████████████████████████████████████| 310/310 [00:03<00:00, 78.06it/s]\n"
     ]
    },
    {
     "name": "stdout",
     "output_type": "stream",
     "text": [
      " * Overall: RMSE 0.195\tG-Mean 0.091\n",
      " * Many: RMSE 0.131\tG-Mean 0.055\n",
      " * Median: RMSE 0.153\tG-Mean 0.088\n",
      " * Low: RMSE 0.227\tG-Mean 0.108\n",
      "====================\n",
      "PFN BO smoter\n",
      "torch.Size([1684, 202])\n"
     ]
    },
    {
     "name": "stderr",
     "output_type": "stream",
     "text": [
      "100%|██████████████████████████████████████████████████████████████████████████████████████████████████████████████████████| 310/310 [00:04<00:00, 77.05it/s]\n"
     ]
    },
    {
     "name": "stdout",
     "output_type": "stream",
     "text": [
      " * Overall: RMSE 0.197\tG-Mean 0.084\n",
      " * Many: RMSE 0.088\tG-Mean 0.035\n",
      " * Median: RMSE 0.129\tG-Mean 0.068\n",
      " * Low: RMSE 0.243\tG-Mean 0.121\n",
      "====================\n",
      "PFN BO inverse\n",
      "torch.Size([1684, 202])\n"
     ]
    },
    {
     "name": "stderr",
     "output_type": "stream",
     "text": [
      "100%|██████████████████████████████████████████████████████████████████████████████████████████████████████████████████████| 310/310 [00:04<00:00, 76.37it/s]\n"
     ]
    },
    {
     "name": "stdout",
     "output_type": "stream",
     "text": [
      " * Overall: RMSE 0.215\tG-Mean 0.090\n",
      " * Many: RMSE 0.077\tG-Mean 0.043\n",
      " * Median: RMSE 0.090\tG-Mean 0.043\n",
      " * Low: RMSE 0.280\tG-Mean 0.165\n",
      "====================\n",
      "PFN BO all context\n",
      "torch.Size([1684, 202])\n"
     ]
    },
    {
     "name": "stderr",
     "output_type": "stream",
     "text": [
      "100%|██████████████████████████████████████████████████████████████████████████████████████████████████████████████████████| 310/310 [00:52<00:00,  5.94it/s]\n"
     ]
    },
    {
     "name": "stdout",
     "output_type": "stream",
     "text": [
      " * Overall: RMSE 0.277\tG-Mean 0.127\n",
      " * Many: RMSE 0.090\tG-Mean 0.069\n",
      " * Median: RMSE 0.079\tG-Mean 0.041\n",
      " * Low: RMSE 0.365\tG-Mean 0.274\n",
      "====================================================================================================\n",
      "Loading dataset : Airfoil_baisier\n"
     ]
    },
    {
     "data": {
      "image/png": "[encoded data removed]",
      "text/plain": [
       "<Figure size 640x480 with 1 Axes>"
      ]
     },
     "metadata": {},
     "output_type": "display_data"
    },
    {
     "name": "stdout",
     "output_type": "stream",
     "text": [
      "====================\n",
      "Knn\n",
      "Sklearn\n",
      " * Overall: RMSE 0.270\tG-Mean 0.129\n",
      " * Many: RMSE 0.264\tG-Mean 0.128\n",
      " * Median: RMSE 0.560\tG-Mean 0.332\n",
      " * Low: RMSE 1.059\tG-Mean 0.758\n",
      "====================\n",
      "Gradient Boosting\n",
      "Sklearn\n",
      " * Overall: RMSE 0.253\tG-Mean 0.129\n",
      " * Many: RMSE 0.247\tG-Mean 0.128\n",
      " * Median: RMSE 0.542\tG-Mean 0.296\n",
      " * Low: RMSE 1.032\tG-Mean 0.614\n",
      "====================\n",
      "Decision Tree\n",
      "Sklearn\n",
      " * Overall: RMSE 0.338\tG-Mean 0.157\n",
      " * Many: RMSE 0.334\tG-Mean 0.156\n",
      " * Median: RMSE 0.558\tG-Mean 0.243\n",
      " * Low: RMSE 0.971\tG-Mean 0.488\n",
      "====================\n",
      "Neural Network\n",
      "Sklearn\n",
      " * Overall: RMSE 0.117\tG-Mean 0.049\n",
      " * Many: RMSE 0.114\tG-Mean 0.049\n",
      " * Median: RMSE 0.270\tG-Mean 0.095\n",
      " * Low: RMSE 0.559\tG-Mean 0.221\n",
      "====================\n",
      "GPT2 vanilla\n",
      "torch.Size([38802, 192])\n"
     ]
    },
    {
     "name": "stderr",
     "output_type": "stream",
     "text": [
      "100%|████████████████████████████████████████████████████████████████████████████████████████████████████████████████████| 9701/9701 [02:02<00:00, 79.36it/s]\n"
     ]
    },
    {
     "name": "stdout",
     "output_type": "stream",
     "text": [
      " * Overall: RMSE 0.204\tG-Mean 0.099\n",
      " * Many: RMSE 0.201\tG-Mean 0.098\n",
      " * Median: RMSE 0.394\tG-Mean 0.213\n",
      " * Low: RMSE 0.654\tG-Mean 0.416\n",
      "====================\n",
      "GPT2 subsample\n",
      "torch.Size([8384, 192])\n"
     ]
    },
    {
     "name": "stderr",
     "output_type": "stream",
     "text": [
      "100%|████████████████████████████████████████████████████████████████████████████████████████████████████████████████████| 9701/9701 [02:04<00:00, 77.78it/s]\n"
     ]
    },
    {
     "name": "stdout",
     "output_type": "stream",
     "text": [
      " * Overall: RMSE 0.338\tG-Mean 0.158\n",
      " * Many: RMSE 0.337\tG-Mean 0.158\n",
      " * Median: RMSE 0.336\tG-Mean 0.187\n",
      " * Low: RMSE 0.643\tG-Mean 0.360\n",
      "====================\n",
      "GPT2 smoter\n",
      "torch.Size([38801, 192])\n"
     ]
    },
    {
     "name": "stderr",
     "output_type": "stream",
     "text": [
      "100%|████████████████████████████████████████████████████████████████████████████████████████████████████████████████████| 9701/9701 [02:05<00:00, 77.35it/s]\n"
     ]
    },
    {
     "name": "stdout",
     "output_type": "stream",
     "text": [
      " * Overall: RMSE 0.248\tG-Mean 0.114\n",
      " * Many: RMSE 0.245\tG-Mean 0.114\n",
      " * Median: RMSE 0.395\tG-Mean 0.239\n",
      " * Low: RMSE 0.610\tG-Mean 0.444\n",
      "====================\n",
      "GPT2 inverse\n",
      "torch.Size([38802, 192])\n"
     ]
    },
    {
     "name": "stderr",
     "output_type": "stream",
     "text": [
      "100%|████████████████████████████████████████████████████████████████████████████████████████████████████████████████████| 9701/9701 [02:10<00:00, 74.48it/s]\n"
     ]
    },
    {
     "name": "stdout",
     "output_type": "stream",
     "text": [
      " * Overall: RMSE 0.231\tG-Mean 0.110\n",
      " * Many: RMSE 0.231\tG-Mean 0.110\n",
      " * Median: RMSE 0.272\tG-Mean 0.118\n",
      " * Low: RMSE 0.466\tG-Mean 0.209\n",
      "====================\n",
      "PFN BO vanilla\n",
      "torch.Size([38802, 192])\n"
     ]
    },
    {
     "name": "stderr",
     "output_type": "stream",
     "text": [
      "100%|████████████████████████████████████████████████████████████████████████████████████████████████████████████████████| 9701/9701 [01:43<00:00, 93.30it/s]\n"
     ]
    },
    {
     "name": "stdout",
     "output_type": "stream",
     "text": [
      " * Overall: RMSE 0.193\tG-Mean 0.091\n",
      " * Many: RMSE 0.187\tG-Mean 0.090\n",
      " * Median: RMSE 0.474\tG-Mean 0.327\n",
      " * Low: RMSE 0.788\tG-Mean 0.556\n",
      "====================\n",
      "PFN BO subsample\n",
      "torch.Size([8384, 192])\n"
     ]
    },
    {
     "name": "stderr",
     "output_type": "stream",
     "text": [
      "100%|████████████████████████████████████████████████████████████████████████████████████████████████████████████████████| 9701/9701 [01:43<00:00, 93.66it/s]\n"
     ]
    },
    {
     "name": "stdout",
     "output_type": "stream",
     "text": [
      " * Overall: RMSE 0.297\tG-Mean 0.136\n",
      " * Many: RMSE 0.295\tG-Mean 0.135\n",
      " * Median: RMSE 0.434\tG-Mean 0.311\n",
      " * Low: RMSE 0.702\tG-Mean 0.511\n",
      "====================\n",
      "PFN BO smoter\n",
      "torch.Size([38801, 192])\n"
     ]
    },
    {
     "name": "stderr",
     "output_type": "stream",
     "text": [
      "100%|████████████████████████████████████████████████████████████████████████████████████████████████████████████████████| 9701/9701 [01:42<00:00, 94.58it/s]\n"
     ]
    },
    {
     "name": "stdout",
     "output_type": "stream",
     "text": [
      " * Overall: RMSE 0.231\tG-Mean 0.101\n",
      " * Many: RMSE 0.226\tG-Mean 0.100\n",
      " * Median: RMSE 0.477\tG-Mean 0.308\n",
      " * Low: RMSE 0.795\tG-Mean 0.594\n",
      "====================\n",
      "PFN BO inverse\n",
      "torch.Size([38802, 192])\n"
     ]
    },
    {
     "name": "stderr",
     "output_type": "stream",
     "text": [
      "100%|████████████████████████████████████████████████████████████████████████████████████████████████████████████████████| 9701/9701 [01:44<00:00, 92.91it/s]"
     ]
    },
    {
     "name": "stdout",
     "output_type": "stream",
     "text": [
      " * Overall: RMSE 0.209\tG-Mean 0.103\n",
      " * Many: RMSE 0.204\tG-Mean 0.102\n",
      " * Median: RMSE 0.474\tG-Mean 0.337\n",
      " * Low: RMSE 0.812\tG-Mean 0.578\n",
      "====================\n",
      "PFN BO all context\n"
     ]
    },
    {
     "name": "stderr",
     "output_type": "stream",
     "text": [
      "\n"
     ]
    }
   ],
   "source": [
    "import os\n",
    "import math\n",
    "import argparse\n",
    "import numpy as np\n",
    "import pandas as pd\n",
    "import matplotlib.pyplot as plt\n",
    "\n",
    "import torch\n",
    "from torch.utils.data import DataLoader\n",
    "\n",
    "from sklearn.neighbors import NearestNeighbors\n",
    "from sklearn.preprocessing import PowerTransformer,QuantileTransformer\n",
    "\n",
    "from sklearn.neighbors import KNeighborsRegressor\n",
    "from sklearn.tree import DecisionTreeRegressor\n",
    "from sklearn.ensemble import GradientBoostingRegressor\n",
    "from sklearn.neural_network import MLPRegressor\n",
    "\n",
    "from sklearn.preprocessing import StandardScaler\n",
    "\n",
    "from utils import *\n",
    "from sampling_strategies import * \n",
    "import data_loader_uci\n",
    "\n",
    "import warnings\n",
    "warnings.filterwarnings(\"ignore\")\n",
    "\n",
    "\n",
    "def get_arguments():\n",
    "    parser = argparse.ArgumentParser(description=\"Unbalanced regression In-context-regression\", add_help=False)\n",
    "\n",
    "    # Data\n",
    "    parser.add_argument(\"--dataset\", type=str, default=\"yacht\",\n",
    "                        help='Choose between : age_db, imdb, boston, concrete, energy-efficiency, kin8nm, power-plant, yacht,engeenering')\n",
    "\n",
    "    # Checkpoints\n",
    "    parser.add_argument(\"--path_dir\", type=str, default=\"data/\",\n",
    "                        help='Path to the dataset folder')\n",
    "    parser.add_argument(\"--exp_dir\", type=str, default=\"logs\",\n",
    "                        help='Path to the log/experiments folder')\n",
    "    \n",
    "    # Model\n",
    "    parser.add_argument(\"--model\", type=str, default='PFN',\n",
    "                        help='different transformer models')\n",
    "    parser.add_argument(\"--model_dir\", type=str, default='models/pfn_hebo.pt', #pfn_hebo #pfn_hebo_plus.pt #\"models/gpt2_finetune/save\",\n",
    "                        help='Path to the log/experiments folder')\n",
    "    parser.add_argument(\"--device\", type=str, default='cuda:2',\n",
    "                        help='device to test on')\n",
    "\n",
    "    # In Context \n",
    "    parser.add_argument(\"--in_con_dim\", type=int, default= 20,\n",
    "                        help='Chunk the features in smaller size in case there are bigger than transformer in dimension')\n",
    "    parser.add_argument(\"--in_con_size\", type=int, default= 10,\n",
    "                        help='Number of samples to use for in-context learning')\n",
    "    parser.add_argument(\"--balanced\", type=bool, default= True,\n",
    "                        help='Balance posterior distribution')\n",
    "    parser.add_argument(\"--batch_size\", type=int, default= 1)\n",
    "    return parser\n",
    "\n",
    "\n",
    "if __name__ == \"__main__\":\n",
    "    print('Runnning evaluation')\n",
    "    parser = argparse.ArgumentParser('Unbalanced regression In-context-regression', parents=[get_arguments()])\n",
    "    args = parser.parse_args([])\n",
    "    IN_CONTEXT_DIM = args.in_con_dim\n",
    "    IN_CONTEXT_SIZE = args.in_con_size\n",
    "    device = torch.device(args.device)\n",
    "    \n",
    "    methods = ['Knn','Gradient Boosting','Decision Tree','Neural Network',\"GPT2 vanilla\",\"GPT2 subsample\",'GPT2 smoter','GPT2 inverse',\"PFN BO vanilla\", \"PFN BO subsample\",'PFN BO smoter','PFN BO inverse',\"PFN BO all context\"]\n",
    "    datasets = ['boston', 'concrete', 'abalone', 'kin8nm', 'communities']\n",
    "    random_splits  = [0,1,2]\n",
    "    DATASET_RESULTS =  []\n",
    "    for random_split in random_splits:\n",
    "        for dataset in datasets:\n",
    "            args.in_con_size = IN_CONTEXT_SIZE\n",
    "            print('='*100)\n",
    "            args.dataset = dataset\n",
    "            print('Loading dataset :', args.dataset.capitalize())\n",
    "            if(args.dataset == 'age_db' or args.dataset == 'imdb'):\n",
    "                df_train = pd.read_csv(args.path_dir+args.dataset+'/train_clip.csv',index_col='index')\n",
    "                df_test = pd.read_csv(args.path_dir+args.dataset+'/test_clip.csv',index_col='index') \n",
    "    \n",
    "                train_labels = df_train['age']\n",
    "    \n",
    "                feature_train,y_train = df_train.iloc[:,3:].values, df_train.iloc[:,0].values\n",
    "                feature_test,y_test = df_test.iloc[:,3:].values, df_test.iloc[:,0].values\n",
    "    \n",
    "                y_train, y_test , y_scaler = normalize_data(np.expand_dims(y_train, axis=-1), np.expand_dims(y_test, axis=-1))\n",
    "                Bins = 100\n",
    "                \n",
    "            else:\n",
    "                (feature_train,y_train), (feature_test,y_test) = data_loader_uci.load_dataset(args.dataset,split_seed = random_split)\n",
    "                y_train, y_test , y_scaler = normalize_data(y_train, y_test,scaler_type = 'std')\n",
    "                Bins = 50\n",
    "        \n",
    "\n",
    "            if(len(list(set(y_train)))<Bins):\n",
    "                Bins = len(list(set(y_train)))\n",
    "        \n",
    "            feature_train_s, feature_test_s, _ = normalize_data(feature_train, feature_test,scaler_type = 'std')\n",
    "            feature_train_p, feature_test_p, _ = normalize_data(feature_train, feature_test,scaler_type = 'power_transform')\n",
    "            \n",
    "            feature_train_icl = torch.cat((feature_train_s,feature_train_p),dim = 1)\n",
    "            feature_test_icl = torch.cat((feature_test_s,feature_test_p),dim = 1)\n",
    "            \n",
    "            feature_train = feature_train_s\n",
    "            feature_test = feature_test_s\n",
    "\n",
    "            targets = torch.from_numpy(y_scaler.inverse_transform(y_test).astype('float32')).float()\n",
    "    \n",
    "            plt.hist(y_train.squeeze(1), bins=Bins, alpha=0.5, label='Original Gaussian Labels')\n",
    "            plt.legend()\n",
    "            plt.show()\n",
    "            \n",
    "            for method in methods: \n",
    "                print('='*20)\n",
    "                print(method)\n",
    "        \n",
    "                if('PFN' not in method and 'GPT2' not in method):\n",
    "                    print('Sklearn')\n",
    "                    if(method == 'Knn'):\n",
    "                        regr =  KNeighborsRegressor(n_neighbors=args.in_con_size,metric='cosine',).fit(feature_train, y_train)\n",
    "                    elif(method == 'Gradient Boosting'):\n",
    "                        regr = GradientBoostingRegressor(random_state=0).fit(feature_train, y_train)\n",
    "                    elif(method == 'Decision Tree'):\n",
    "                        regr = DecisionTreeRegressor(random_state=0).fit(feature_train, y_train)\n",
    "                    elif(method == 'Neural Network'):\n",
    "                        regr = MLPRegressor(random_state=0).fit(feature_train, y_train)\n",
    "    \n",
    "                    shots_results = predicting_and_testing_sklearn(regr, feature_test, targets,y_train, y_scaler)\n",
    "                    DATASET_RESULTS.append([dataset,random_split,method,shots_results[0],shots_results[1],shots_results[2],shots_results[3]])\n",
    "                else:\n",
    "                    if('PFN BO' in method):\n",
    "                        args.model = 'PFN'\n",
    "                        args.model_dir = 'models/pfn_hebo.pt'\n",
    "                        args.in_con_size = 15\n",
    "                    elif('GPT2' in method):\n",
    "                        args.model = 'GPT2'\n",
    "                        args.model_dir = 'models/relu_2nn_regression/pretrained'\n",
    "                        args.in_con_size = 10\n",
    "    \n",
    "                    #args.in_con_size = IN_CONTEXT_SIZE #min((IN_CONTEXT_SIZE,feature_train.shape[1]))\n",
    "                    args.in_con_dim =  min((IN_CONTEXT_DIM,feature_train_icl.shape[1])) #IN_CONTEXT_DIM\n",
    "                    if('vanilla' in method):\n",
    "                        feature_train_icl_ = feature_train_icl\n",
    "                        y_train_sub = y_train\n",
    "\n",
    "                        neigh = NearestNeighbors(n_neighbors=args.in_con_size,metric='cosine', n_jobs=12)\n",
    "                        neigh.fit(feature_train_icl_)\n",
    "                        _,indices = neigh.kneighbors(feature_test_icl)\n",
    "                        \n",
    "                    if('all context' in method):\n",
    "                        feature_train_icl_ = feature_train_icl\n",
    "                        y_train_sub = y_train\n",
    "                        if(feature_train_icl_.shape[0]>10000):\n",
    "                            break\n",
    "                        else:\n",
    "                            args.in_con_size = feature_train_icl_.shape[0]\n",
    "                        neigh = NearestNeighbors(n_neighbors=args.in_con_size,metric='cosine', n_jobs=12)\n",
    "                        neigh.fit(feature_train_icl_)\n",
    "                        _,indices = neigh.kneighbors(feature_test_icl)\n",
    "\n",
    "                    elif('subsample' in method):\n",
    "                        feature_train_icl_, y_train_sub = random_undersample(feature_train_icl, y_train,random_state = random_split)\n",
    "                        y_train_sub = torch.from_numpy(np.expand_dims(y_train_sub, axis=-1))\n",
    "                        feature_train_icl_ = torch.from_numpy(feature_train_icl_)\n",
    "\n",
    "                        neigh = NearestNeighbors(n_neighbors=args.in_con_size,metric='cosine', n_jobs=12)\n",
    "                        neigh.fit(feature_train_icl_)\n",
    "                        _,indices = neigh.kneighbors(feature_test_icl)\n",
    "                        \n",
    "                    elif('smoter' in method):\n",
    "                        feature_train_icl_, y_train_sub = smoter(feature_train_icl, y_train,random_state = random_split)\n",
    "                        y_train_sub = torch.from_numpy(np.expand_dims(y_train_sub, axis=-1))\n",
    "                        feature_train_icl_ = torch.from_numpy(feature_train_icl_)\n",
    "\n",
    "                        neigh = NearestNeighbors(n_neighbors=args.in_con_size,metric='cosine', n_jobs=12)\n",
    "                        neigh.fit(feature_train_icl_)\n",
    "                        _,indices = neigh.kneighbors(feature_test_icl)\n",
    "                        \n",
    "                    elif('inverse' in method):\n",
    "                        feature_train_icl_ = feature_train_icl\n",
    "                        y_train_sub = y_train\n",
    "                        \n",
    "                        neigh = NearestNeighbors(n_neighbors=args.in_con_size,metric='cosine', n_jobs=12)\n",
    "                        neigh.fit(feature_train_icl_)\n",
    "                        _,indices = neigh.kneighbors(feature_test_icl)\n",
    "                        selected_indices = inver_distribution_sampling(y_scaler.inverse_transform(y_train).astype('float32').squeeze(1),y_train.shape[0], n_bins = Bins,random_seed = random_split)\n",
    "                        \n",
    "                        neigh_unbalanced = NearestNeighbors(n_neighbors=min(args.in_con_size,len(selected_indices)),metric='cosine',n_jobs=12)\n",
    "                        neigh_unbalanced.fit(feature_train_icl_[selected_indices])\n",
    "                        \n",
    "                        _,indices_unbalanced = neigh_unbalanced.kneighbors(feature_test_icl)\n",
    "                        indices_unbalanced = np.array(selected_indices)[indices_unbalanced]\n",
    "                        indices = np.concatenate((indices,indices_unbalanced),1)\n",
    "                        args.in_con_size = indices.shape[1]\n",
    "                        \n",
    "                    print(feature_train_icl_.shape)\n",
    "                    \n",
    "                    if(args.model == 'PFN'):\n",
    "                        model = torch.load(args.model_dir)\n",
    "                        model_n_dims = model.encoder[1].base_encoder.weight.shape[1]\n",
    "                        if(args.in_con_dim>model_n_dims):\n",
    "                            args.in_con_dim = model_n_dims#//2+1\n",
    "                    else:\n",
    "                        run_dir = os.getcwd()\n",
    "                        model_path =  os.path.join(run_dir, args.model_dir)\n",
    "                        model, conf = get_model_from_run(model_path)\n",
    "                        model_n_dims = conf.model.n_dims\n",
    "                        args.in_con_dim = model_n_dims\n",
    "                        \n",
    "                    model = model.to(device)\n",
    "                    model.eval()\n",
    "                    if('pfn_hebo.pt' in args.model_dir):\n",
    "                         Gain = 0.1\n",
    "                    elif('pretrained' in args.model_dir):\n",
    "                        Gain = 5 \n",
    "                    else:\n",
    "                        Gain = 1\n",
    "    \n",
    "                    test_in_context = BatchingTestSample(feature_train_icl_ ,feature_test_icl ,Gain*y_train_sub, y_test, indices,model_n_dims,args.in_con_dim, args.in_con_size)\n",
    "                    dataloader = DataLoader(test_in_context ,batch_size = args.batch_size,shuffle = False ,num_workers = 12)\n",
    "                \n",
    "                    if(args.model == 'PFN'):\n",
    "                        predictions = testing_in_contect_pfn(model,dataloader,args.in_con_size,model_n_dims,device)/Gain\n",
    "                    else:\n",
    "                        predictions = testing_in_contect(model,dataloader,args.in_con_size,conf.model.n_dims,device)/Gain\n",
    "                        \n",
    "                    outputs = torch.from_numpy(y_scaler.inverse_transform(np.expand_dims(predictions,axis=-1)).astype('float32')).float()\n",
    "                    targets = torch.from_numpy(y_scaler.inverse_transform(y_test).astype('float32')).float()\n",
    "                \n",
    "        \n",
    "                    task_metrics = testing_shots_regions(outputs.squeeze(1),targets.squeeze(1),torch.from_numpy(y_scaler.inverse_transform(y_train).astype('float32')).float().squeeze(1))\n",
    "                    DATASET_RESULTS.append([dataset,random_split,method,task_metrics['overall']['rmse'],task_metrics['many']['rmse'],task_metrics['medium']['rmse'],task_metrics['few']['rmse']])"
   ]
  },
  {
   "cell_type": "code",
   "execution_count": 2,
   "id": "41fa416c-180c-4e2b-8a18-472f7b8ed5a7",
   "metadata": {},
   "outputs": [],
   "source": [
    "#method_names = methods\n",
    "shots_regions = ['Dataset','Seed','Method','Overall','Many','Medium','Few']\n",
    "data = np.array(DATASET_RESULTS)\n",
    "df = pd.DataFrame(data, columns=shots_regions)\n",
    "\n",
    "df.to_csv('results/'+'all_results'+'.csv') "
   ]
  },
  {
   "cell_type": "code",
   "execution_count": 3,
   "id": "7423635b-c6da-4c11-a129-a9a5e8d6e4ff",
   "metadata": {},
   "outputs": [],
   "source": [
    "df['Overall'] = df['Overall'].astype(float)\n",
    "df['Many'] = df['Many'].astype(float)\n",
    "df['Medium'] = df['Medium'].astype(float)\n",
    "df['Few'] = df['Few'].astype(float)\n",
    "\n",
    "result_df = pd.DataFrame()\n",
    "\n",
    "# Loop through unique datasets and methods\n",
    "for method in df['Method'].unique():\n",
    "    df_filtered = df[(df['Method'] == method)]\n",
    "    \n",
    "    # Calculate mean grouped by 'Size'\n",
    "    grouped_means = pd.DataFrame(df_filtered[['Overall', 'Many', 'Medium', 'Few']].mean(0)).T #df_filtered.groupby('Seed')[['Overall', 'Many', 'Medium', 'Few']].mean().reset_index()\n",
    "    \n",
    "    # Add 'Method' and 'Dataset' back to the DataFrame\n",
    "    grouped_means['Method'] = method\n",
    "    \n",
    "    # Append to the result DataFrame\n",
    "    result_df = pd.concat([result_df, grouped_means], ignore_index=True)\n",
    "df = result_df\n",
    "df.to_csv('results/'+'averaged_all'+'.csv') "
   ]
  },
  {
   "cell_type": "code",
   "execution_count": 4,
   "id": "a44bced5-bcc4-48d6-b449-064c27520be7",
   "metadata": {
    "scrolled": true
   },
   "outputs": [
    {
     "data": {
      "text/html": [
       "<div>\n",
       "<style scoped>\n",
       "    .dataframe tbody tr th:only-of-type {\n",
       "        vertical-align: middle;\n",
       "    }\n",
       "\n",
       "    .dataframe tbody tr th {\n",
       "        vertical-align: top;\n",
       "    }\n",
       "\n",
       "    .dataframe thead th {\n",
       "        text-align: right;\n",
       "    }\n",
       "</style>\n",
       "<table border=\"1\" class=\"dataframe\">\n",
       "  <thead>\n",
       "    <tr style=\"text-align: right;\">\n",
       "      <th></th>\n",
       "      <th>Overall</th>\n",
       "      <th>Many</th>\n",
       "      <th>Medium</th>\n",
       "      <th>Few</th>\n",
       "      <th>Method</th>\n",
       "    </tr>\n",
       "  </thead>\n",
       "  <tbody>\n",
       "    <tr>\n",
       "      <th>0</th>\n",
       "      <td>3.958771</td>\n",
       "      <td>1.712082</td>\n",
       "      <td>3.069015</td>\n",
       "      <td>6.413541</td>\n",
       "      <td>Knn</td>\n",
       "    </tr>\n",
       "    <tr>\n",
       "      <th>1</th>\n",
       "      <td>2.500837</td>\n",
       "      <td>1.257951</td>\n",
       "      <td>2.037502</td>\n",
       "      <td>4.049479</td>\n",
       "      <td>Gradient Boosting</td>\n",
       "    </tr>\n",
       "    <tr>\n",
       "      <th>2</th>\n",
       "      <td>3.033030</td>\n",
       "      <td>1.900129</td>\n",
       "      <td>2.718099</td>\n",
       "      <td>4.287884</td>\n",
       "      <td>Decision Tree</td>\n",
       "    </tr>\n",
       "    <tr>\n",
       "      <th>3</th>\n",
       "      <td>2.489670</td>\n",
       "      <td>1.442215</td>\n",
       "      <td>2.125903</td>\n",
       "      <td>3.788670</td>\n",
       "      <td>Neural Network</td>\n",
       "    </tr>\n",
       "    <tr>\n",
       "      <th>4</th>\n",
       "      <td>2.431465</td>\n",
       "      <td>1.412819</td>\n",
       "      <td>1.991726</td>\n",
       "      <td>3.705722</td>\n",
       "      <td>GPT2 vanilla</td>\n",
       "    </tr>\n",
       "    <tr>\n",
       "      <th>5</th>\n",
       "      <td>2.654747</td>\n",
       "      <td>2.419214</td>\n",
       "      <td>2.384490</td>\n",
       "      <td>3.173490</td>\n",
       "      <td>GPT2 subsample</td>\n",
       "    </tr>\n",
       "    <tr>\n",
       "      <th>6</th>\n",
       "      <td>2.428903</td>\n",
       "      <td>1.680238</td>\n",
       "      <td>2.094541</td>\n",
       "      <td>3.374183</td>\n",
       "      <td>GPT2 smoter</td>\n",
       "    </tr>\n",
       "    <tr>\n",
       "      <th>7</th>\n",
       "      <td>2.347296</td>\n",
       "      <td>1.718521</td>\n",
       "      <td>1.946136</td>\n",
       "      <td>3.310362</td>\n",
       "      <td>GPT2 inverse</td>\n",
       "    </tr>\n",
       "    <tr>\n",
       "      <th>8</th>\n",
       "      <td>2.601211</td>\n",
       "      <td>1.349398</td>\n",
       "      <td>2.041638</td>\n",
       "      <td>4.202976</td>\n",
       "      <td>PFN BO vanilla</td>\n",
       "    </tr>\n",
       "    <tr>\n",
       "      <th>9</th>\n",
       "      <td>2.805772</td>\n",
       "      <td>2.374298</td>\n",
       "      <td>2.355059</td>\n",
       "      <td>3.645511</td>\n",
       "      <td>PFN BO subsample</td>\n",
       "    </tr>\n",
       "    <tr>\n",
       "      <th>10</th>\n",
       "      <td>2.563543</td>\n",
       "      <td>1.578509</td>\n",
       "      <td>2.134604</td>\n",
       "      <td>3.797563</td>\n",
       "      <td>PFN BO smoter</td>\n",
       "    </tr>\n",
       "    <tr>\n",
       "      <th>11</th>\n",
       "      <td>2.676880</td>\n",
       "      <td>1.375770</td>\n",
       "      <td>2.029922</td>\n",
       "      <td>4.384917</td>\n",
       "      <td>PFN BO inverse</td>\n",
       "    </tr>\n",
       "    <tr>\n",
       "      <th>12</th>\n",
       "      <td>3.851855</td>\n",
       "      <td>2.075463</td>\n",
       "      <td>3.151967</td>\n",
       "      <td>5.764741</td>\n",
       "      <td>PFN BO all context</td>\n",
       "    </tr>\n",
       "  </tbody>\n",
       "</table>\n",
       "</div>"
      ],
      "text/plain": [
       "     Overall      Many    Medium       Few              Method\n",
       "0   3.958771  1.712082  3.069015  6.413541                 Knn\n",
       "1   2.500837  1.257951  2.037502  4.049479   Gradient Boosting\n",
       "2   3.033030  1.900129  2.718099  4.287884       Decision Tree\n",
       "3   2.489670  1.442215  2.125903  3.788670      Neural Network\n",
       "4   2.431465  1.412819  1.991726  3.705722        GPT2 vanilla\n",
       "5   2.654747  2.419214  2.384490  3.173490      GPT2 subsample\n",
       "6   2.428903  1.680238  2.094541  3.374183         GPT2 smoter\n",
       "7   2.347296  1.718521  1.946136  3.310362        GPT2 inverse\n",
       "8   2.601211  1.349398  2.041638  4.202976      PFN BO vanilla\n",
       "9   2.805772  2.374298  2.355059  3.645511    PFN BO subsample\n",
       "10  2.563543  1.578509  2.134604  3.797563       PFN BO smoter\n",
       "11  2.676880  1.375770  2.029922  4.384917      PFN BO inverse\n",
       "12  3.851855  2.075463  3.151967  5.764741  PFN BO all context"
      ]
     },
     "execution_count": 4,
     "metadata": {},
     "output_type": "execute_result"
    }
   ],
   "source": [
    "df"
   ]
  }
 ],
 "metadata": {
  "kernelspec": {
   "display_name": "Python 3 (ipykernel)",
   "language": "python",
   "name": "python3"
  },
  "language_info": {
   "codemirror_mode": {
    "name": "ipython",
    "version": 3
   },
   "file_extension": ".py",
   "mimetype": "text/x-python",
   "name": "python",
   "nbconvert_exporter": "python",
   "pygments_lexer": "ipython3",
   "version": "3.8.12"
  }
 },
 "nbformat": 4,
 "nbformat_minor": 5
}
